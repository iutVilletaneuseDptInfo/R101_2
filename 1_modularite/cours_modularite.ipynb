{
 "cells": [
  {
   "cell_type": "markdown",
   "id": "4d330e3d",
   "metadata": {},
   "source": [
    "# <center> Cours 1 : Modularité en Python</center>"
   ]
  },
  {
   "cell_type": "markdown",
   "id": "11d0e7d5",
   "metadata": {},
   "source": [
    "Les modules et packages permettent de découper un programme en plusieurs fichiers et de regrouper ceux-ci de manière logique. C'est indispensable  lorsque l'on travaille sur des projets longs et à plusieurs. "
   ]
  },
  {
   "cell_type": "markdown",
   "id": "16b94c4a",
   "metadata": {
    "deletable": false,
    "editable": false,
    "run_control": {
     "frozen": true
    }
   },
   "source": [
    "## Python en dehors des notebooks"
   ]
  },
  {
   "cell_type": "markdown",
   "id": "79345695",
   "metadata": {
    "deletable": false,
    "editable": false,
    "run_control": {
     "frozen": true
    }
   },
   "source": [
    "Il est possible d'exécuter du code Python en dehors des notebooks."
   ]
  },
  {
   "cell_type": "markdown",
   "id": "0b106e75",
   "metadata": {
    "deletable": false,
    "editable": false,
    "run_control": {
     "frozen": true
    }
   },
   "source": [
    "### Python interactif"
   ]
  },
  {
   "cell_type": "markdown",
   "id": "e1c64db8",
   "metadata": {},
   "source": [
    "Lancée dans un terminal, la commande `python` transforme le terminal en une console python interactive. Il est alors possible de saisir des instructions Python. À chaque instruction saisie, celle-ci est exécutée."
   ]
  },
  {
   "cell_type": "markdown",
   "id": "3eb3c75c",
   "metadata": {
    "deletable": false,
    "editable": false,
    "run_control": {
     "frozen": true
    }
   },
   "source": [
    "### Fichiers de code Python"
   ]
  },
  {
   "cell_type": "markdown",
   "id": "5bc10121",
   "metadata": {
    "deletable": false,
    "editable": false,
    "run_control": {
     "frozen": true
    }
   },
   "source": [
    "Il est possible d'écrire du code Python dans des fichiers que l'on peut exécuter ensuite dans un terminal. \n",
    "Pour écrire du code Python dans un fichier, il faut utiliser un éditeur de texte tel que `gedit` ou `code` (**pas open office**).\n",
    "\n",
    "Pour exécuter le fichier contenant le code Python, il faut taper la commande  dans le terminal : \n",
    "```bash\n",
    "python nom_du_fichier_python\n",
    "```\n",
    "\n",
    "**Remarques :**\n",
    "* les fichiers de code Python ont généralement l'extension .py\n",
    "* Pour qu'il n'y ait pas de problème d'accents, il faut que le fichier soit encodé en utf-8.\n",
    "* Si le fichier de code Python commence par la ligne\n",
    "```python\n",
    "#!/usr/bin/env python\n",
    "```\n",
    "et qu'il est exécutable (dans le terminal, taper `chmod +x nom_du_fichier_python` pour le rendre exécutable), il est possible de lancer le script python en tapant :\n",
    "```bash\n",
    "./nom_du_fichier_python\n",
    "```"
   ]
  },
  {
   "cell_type": "markdown",
   "id": "7f7f4c94",
   "metadata": {
    "deletable": false,
    "editable": false
   },
   "source": [
    "## Modules"
   ]
  },
  {
   "cell_type": "markdown",
   "id": "afecb861",
   "metadata": {},
   "source": [
    "Un module est un fichier contenant du code Python, généralement des définitions de fonctions, qui peut, par la suite, être inclus dans un autre fichier Python. Ce dernier peut alors appeler les fonctions définies dans le module.\n",
    "\n",
    "Le nom de fichier d'un module est le nom du module suffixé de .py. Par exemple, le module `hello` est défini dans le fichier `hello.py`.\n",
    "\n",
    "**Remarque :** on suppose pour l'instant que le module est dans le même répertoire que le fichier Python qui appelle les fonctions du module.\n",
    "\n",
    "**Remarque :** un module peut être importé dans un notebook. Un notebook ne peut en revanche pas être utilisé comme module. \n",
    "Il est toutefois possible de sauvegarder un notebook au format python (fichier .py) en cliquant sur *Fichier -> Télécharger au format -> Python*. Les cellules de texte (markdown) deviennent alors des commentaires."
   ]
  },
  {
   "cell_type": "markdown",
   "id": "414feb67",
   "metadata": {},
   "source": [
    "### Importer un module"
   ]
  },
  {
   "cell_type": "markdown",
   "id": "2b58906e",
   "metadata": {
    "deletable": false,
    "editable": false,
    "run_control": {
     "frozen": true
    }
   },
   "source": [
    "Pour utiliser les fonctions d'un module, il faut auparavant importer ce module. Il existe deux manières d'importer un module."
   ]
  },
  {
   "cell_type": "markdown",
   "id": "c1032cc0",
   "metadata": {},
   "source": [
    "#### Première méthode\n",
    "\n",
    "On inclut le module avec l'instruction :\n",
    "```python\n",
    "import module\n",
    "```\n",
    "On appelle une fonction `fonction` définie dans le module avec l'instruction :\n",
    "```python\n",
    "module.fonction(val1, val2, ..., valk) \n",
    "# val1, ..., valk sont les valeurs des paramètres lors de l'appel\n",
    "```\n",
    "\n",
    "**Remarque :** on peut donner un autre nom au module à l'intérieur du script grâce au mot clé `as`. Par exemple : \n",
    "```python\n",
    "import module as nom_module\n",
    "\n",
    "nom_module.fonction(val1, val2, ..., valk) \n",
    "# val1, ..., valk sont les valeurs des paramètres lors de l'appel\n",
    "```"
   ]
  },
  {
   "cell_type": "markdown",
   "id": "63925b8a",
   "metadata": {
    "deletable": false,
    "editable": false,
    "run_control": {
     "frozen": true
    }
   },
   "source": [
    "#### Deuxième méthode\n",
    "\n",
    "On inclut le module avec l'instruction : \n",
    "```python\n",
    "from module import fonction, autre_fonction # etc\n",
    "```\n",
    "Dans ce cas, on peut appeler les fonctions dont les noms sont écrits après le mot `import` directement dans le code :\n",
    "```python\n",
    "fonction(val1, val2, ..., valk)\n",
    "```\n",
    "\n",
    "**Remarque :** seules les fonctions qui sont après le mot clé `import` peuvent être utilisées dans le script.\n",
    "\n",
    "Pour importer toutes les fonctions du module, on peut écrire directement :\n",
    "```python\n",
    "from module import * # importe toutes les fonctions du module\n",
    "```\n",
    "\n",
    "**Attention :** les fonctions importées de cette manière écrasent les fonctions ayant le même nom dans le script. Par exemple, l'instruction \n",
    "```python\n",
    "from os import *\n",
    "``` \n",
    "importe la fonction `open` définie dans le module `os`. On ne peut alors plus utiliser la fonction `open` pour ouvrir des fichiers !"
   ]
  },
  {
   "cell_type": "markdown",
   "id": "666e0834",
   "metadata": {
    "deletable": false,
    "editable": false,
    "run_control": {
     "frozen": true
    }
   },
   "source": [
    "#### Exemple\n",
    "\n",
    "Considérons le code suivant : "
   ]
  },
  {
   "cell_type": "code",
   "execution_count": null,
   "id": "a75688f9",
   "metadata": {},
   "outputs": [],
   "source": [
    "def occurence(s, car):\n",
    "    \"\"\"\n",
    "        Retourne le nombre de fois où le caractère car apparaît \n",
    "        dans la chaîne s.\n",
    "    \"\"\"\n",
    "    compteur = 0\n",
    "    i = 0\n",
    "    while i < len(s):\n",
    "        if s[i] == car:\n",
    "            compteur += 1\n",
    "        i += 1\n",
    "    return compteur\n",
    "\n",
    "\n",
    "print(\"Saisir un texte\")\n",
    "texte = input()\n",
    "texte = texte.lower()  # transforme le texte en minuscules\n",
    "\n",
    "nbE = occurence(texte, \"e\")\n",
    "print(\"Le texte contient \", nbE, \" fois la lettre e.\")"
   ]
  },
  {
   "cell_type": "markdown",
   "id": "86e91282",
   "metadata": {},
   "source": [
    "Même si ce code est simple, on souhaite découper ce code en deux fichiers : \n",
    "\n",
    "* un module `fonctionChaines.py` qui contiendra la définition de la fonction `occurence` (ce module pourrait également contenir d'autres fonctions relatives aux chaînes de caractères).\n",
    "\n",
    "* un fichier `occurencesTexte.py` qui contiendra la saisie du texte, et l'affichage du nombre d'occurences de la lettre e dans le texte.\n",
    "\n",
    "On crée alors (dans le répertoire `files`) les deux fichiers de la manière suivante."
   ]
  },
  {
   "cell_type": "markdown",
   "id": "552eeeaa",
   "metadata": {
    "deletable": false,
    "editable": false,
    "run_control": {
     "frozen": true
    }
   },
   "source": [
    "##### Contenu du fichier `fonctionsChaines.py`"
   ]
  },
  {
   "cell_type": "code",
   "execution_count": null,
   "id": "7bfe0dba",
   "metadata": {},
   "outputs": [],
   "source": [
    "def occurence(s, c):\n",
    "    \"\"\"\n",
    "        Retourne le nombre de fois où le caractère c apparaît dans la chaîne s.\n",
    "    \"\"\"\n",
    "    compteur = 0\n",
    "    i = 0\n",
    "    while i < len(s):\n",
    "        if s[i] == c:\n",
    "            compteur += 1\n",
    "        i += 1\n",
    "    return compteur"
   ]
  },
  {
   "cell_type": "markdown",
   "id": "333ef6be",
   "metadata": {},
   "source": [
    "##### Contenu du fichier `occurenceTexte.py`\n"
   ]
  },
  {
   "cell_type": "code",
   "execution_count": null,
   "id": "b387efe8",
   "metadata": {},
   "outputs": [],
   "source": [
    "import fonctionsChaines as fch\n",
    "\n",
    "print(\"Saisir un texte\")\n",
    "texte = input()\n",
    "texte = texte.lower()  # transforme le texte en minuscules\n",
    "\n",
    "nbE = fch.occurence(texte, \"e\") # fonction occurence du module \n",
    "                                #fonctionsChaines renommé fch\n",
    "print(\"Le texte contient\", nbE, \"fois la lettre e.\")"
   ]
  },
  {
   "cell_type": "markdown",
   "id": "69a541d2",
   "metadata": {},
   "source": [
    "##### Exécution du programme\n",
    "\n",
    "On exécute le code Python en tapant dans le terminal la commande \n",
    "```\n",
    "python occurenceTexte.py \n",
    "```"
   ]
  },
  {
   "cell_type": "markdown",
   "id": "711c3914",
   "metadata": {},
   "source": [
    "### Utiliser des modules comme des scripts\n",
    "\n",
    "Un module peut être utilisé dans d'autres scripts Python. Il est néanmoins possible d'y inclure du code qui ne sera exécuté que si le module est le fichier exécuté (autrement dit, si l'instruction `python nom_du_module` est exécutée).\n",
    "Ceci se fait en utilisant : "
   ]
  },
  {
   "cell_type": "code",
   "execution_count": null,
   "id": "bb234841",
   "metadata": {
    "deletable": false,
    "editable": false
   },
   "outputs": [],
   "source": [
    "if __name__ == '__main__':\n",
    "    # Code qui sera exécuté uniquement si le module est exécuté \n",
    "    # directement (pas inclus dans un autre script)"
   ]
  },
  {
   "cell_type": "markdown",
   "id": "1bbcb9c6",
   "metadata": {},
   "source": [
    "La variable `__name__` varie en effet selon le module dans lequel on se trouve durant l'exécution du programme. Dans le module principal, sa valeur sera égale à `__main__`. Si l'on se trouve dans un autre module importé, alors sa valeur sera égale au nom du module principal. "
   ]
  },
  {
   "cell_type": "markdown",
   "id": "0709dd1a",
   "metadata": {},
   "source": [
    "##### Contenu du fichier `monScript.py`"
   ]
  },
  {
   "cell_type": "code",
   "execution_count": null,
   "id": "a778ce37",
   "metadata": {
    "deletable": false,
    "editable": false
   },
   "outputs": [],
   "source": [
    "#monScript.py\n",
    "if __name__ == '__main__':\n",
    "    print(\"mon script est exécuté directement\")\n",
    "else:\n",
    "    print(\"mon script est importé par un autre module\")"
   ]
  },
  {
   "cell_type": "markdown",
   "id": "df36d5a3",
   "metadata": {},
   "source": [
    "##### Contenu du fichier `monAutreScript.py`"
   ]
  },
  {
   "cell_type": "code",
   "execution_count": null,
   "id": "42a8b365",
   "metadata": {
    "deletable": false,
    "editable": false
   },
   "outputs": [],
   "source": [
    "#monAutreScript.py\n",
    "import monScript"
   ]
  },
  {
   "cell_type": "markdown",
   "id": "68394270",
   "metadata": {},
   "source": [
    "En lançant le script `monScript` avec la commande `python monScript.py`, on obtient le message `\"mon script est exécuté\"` directement. Mais si on exécute le script `monAutreScript`, qui importe le module `monScript.py`, le message affiché sera `\"mon script est importé par un autre module\"`."
   ]
  },
  {
   "cell_type": "markdown",
   "id": "8d3a2bc9",
   "metadata": {},
   "source": [
    "Ceci permet notamment d'insérer des tests pour des fonctions définies au sein du module. Ces tests ne seront exécutés que lorsque le script sera exécuté (et pas quand il est utilisé dans d'autres scripts)."
   ]
  },
  {
   "cell_type": "markdown",
   "id": "95e34e02",
   "metadata": {},
   "source": [
    "##### Répertoire  `__pycache__`\n",
    "\n",
    "Lorsque Python importe un module, il compile le code source en bytecode et stocke le résultat dans un répertoire appelé `__pycache__` dans le repertoire où est exécuté le programme important le module. Cela accélère les chargements ultérieurs en évitant la recompilation à chaque exécution, à moins que le code source ne soit modifié."
   ]
  },
  {
   "cell_type": "markdown",
   "id": "58c52ee5",
   "metadata": {
    "deletable": false,
    "editable": false,
    "run_control": {
     "frozen": true
    }
   },
   "source": [
    "## Packages en Python"
   ]
  },
  {
   "cell_type": "markdown",
   "id": "26707093",
   "metadata": {},
   "source": [
    "Un package en Python est un ensemble de modules organisés dans des répertoires et sous-répertoires. Les packages permettent de structurer et d’organiser le code de manière modulaire et réutilisable. Ils sont souvent appelés bibliothèques (ou libraries en anglais) lorsqu’ils sont destinés à être partagés et réutilisés par d’autres développeurs.\n",
    "\n",
    "Pour identifier un répertoire comme un package, il y faut créer un fichier `__init__.py`. Ce fichier peut être vide, mais il peut aussi exécuter du code d’initialisation du package. La commande `touch __init__.py` permet de créer un fichier vide dans le répertoire courant.\n",
    "\n",
    "**Remarque :** on suppose pour l'instant que le package est dans le même répertoire que le fichier Python ou notebook qui importe le package.\n",
    "\n",
    "\n",
    "Dans un script, pour utiliser un module du package, il faut importer le module grâce à l'instruction :\n",
    "```python\n",
    "import package.module\n",
    "```\n",
    "ou\n",
    "```python\n",
    "from package.module import fonction1, fonction2 # etc\n",
    "```"
   ]
  },
  {
   "cell_type": "markdown",
   "id": "8f306c06",
   "metadata": {},
   "source": [
    "Par exemple, le package `Outils` contient un seul module `words`. \n",
    "Ce module contient une seule fonction `compteMots` :"
   ]
  },
  {
   "cell_type": "code",
   "execution_count": null,
   "id": "48262915",
   "metadata": {},
   "outputs": [],
   "source": [
    "def compteMots(s):\n",
    "    \"\"\"\n",
    "        Retourne le nombre de mots dans une phrase.(un mot est une \n",
    "        séquence non vide de caractères comprise entre deux espaces)\n",
    "    \"\"\"\n",
    "    # split découpe la chaîne selon les espaces et retourne un tableau\n",
    "    # contenant les différentes parties\n",
    "    return len(s.split())"
   ]
  },
  {
   "cell_type": "markdown",
   "id": "817bb553",
   "metadata": {},
   "source": [
    "Le répertoire `Outils` contient donc les fichiers `__init__.py` et `words.py`. Pour utiliser ce module à travers le package `Outils`, on utilise dans le fichier l'import : `import Outils.words as uw`."
   ]
  },
  {
   "cell_type": "markdown",
   "id": "3a04ddb0",
   "metadata": {},
   "source": [
    "Le fichier `analyse.py` appelle le module `fonctionsChaines` et le module `words` du package `Outils` et peut être exécuté avec la commande `python analyse.py`."
   ]
  },
  {
   "cell_type": "code",
   "execution_count": null,
   "id": "1b0af382",
   "metadata": {},
   "outputs": [],
   "source": [
    "import fonctionsChaines as fch\n",
    "import Outils.words as uw\n",
    "\n",
    "\n",
    "print(\"saisir un texte \")\n",
    "texte = input()\n",
    "nbE = fch.occurence(texte, \"e\")\n",
    "nbMots = uw.compteMots(texte)\n",
    "print(\"Le texte contient\", nbE, \"lettres e et\", nbMots, \"mots.\") "
   ]
  },
  {
   "cell_type": "markdown",
   "id": "c41456e3",
   "metadata": {},
   "source": [
    "### Utiliser des modules et packages hors du répertoire courant\n",
    "\n",
    "Si le module ou le package n'est pas dans le même répertoire que le script (ou notebook) qui les utilise, alors Python ne le trouve pas et cela engendre une erreur. Pour remédier à ce problème, il faut ajouter le répertoire contenant le module (ou package) dans le chemin de Python. Pour cela on utilise le package `sys` qui permet d'ajouter des nouveaux chemins :\n",
    "\n",
    "```python\n",
    "# chemin est une chaîne de caractères décrivant le chemin \n",
    "# (relatif ou absolu) jusqu'au répertoire contenant le module \n",
    "# ou package que l'on souhaite utiliser. \n",
    "import sys\n",
    "sys.path.append(chemin)\n",
    "```\n",
    "\n",
    "Par exemple, si l'on a un répertoire contenant un fichier (module) `mod.py` et un répertoire `Programme` contenant le fichier `programme.py` et si l'on souhaite utiliser le module `mod` dans `programme.py`, alors le début de ce fichier sera : \n",
    "\n",
    "```python\n",
    "import sys\n",
    "sys.path.append(\"../\")\n",
    "from mod import *\n",
    "```"
   ]
  },
  {
   "cell_type": "markdown",
   "id": "0fcb12f7",
   "metadata": {},
   "source": [
    "## Tests unitaires avec pytest"
   ]
  },
  {
   "cell_type": "markdown",
   "id": "102371be",
   "metadata": {},
   "source": [
    "Il est possible d'exécuter tous les tests unitaires contenudans un package ou un module à l'aide du programme `pytest`.\n",
    "\n",
    "La commande\n",
    "```\n",
    "pytest fichier.py\n",
    "```\n",
    "exécute toutes les fonctions commençant par `test_` qui sont définies à l'intérieur du fichier `fichier.py`. Ces fonctions doivent être des fonctions de tests unitaires utilisant la fonction `assert` (selon le modèle vu en cours).\n",
    "\n",
    "\n",
    "La commande\n",
    "```\n",
    "pytest\n",
    "```\n",
    "considère tous les fichiers à l'intérieur du répertoire courant (et des sous-répertoires) commençant par `test_`. Pour chacun de ces fichiers, le programme exécute toutes les fonctions commençant par `test_`. "
   ]
  }
 ],
 "metadata": {
  "kernelspec": {
   "display_name": "Python 3 (ipykernel)",
   "language": "python",
   "name": "python3"
  },
  "language_info": {
   "codemirror_mode": {
    "name": "ipython",
    "version": 3
   },
   "file_extension": ".py",
   "mimetype": "text/x-python",
   "name": "python",
   "nbconvert_exporter": "python",
   "pygments_lexer": "ipython3",
   "version": "3.11.4"
  }
 },
 "nbformat": 4,
 "nbformat_minor": 5
}
