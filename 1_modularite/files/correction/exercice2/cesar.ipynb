{
 "cells": [
  {
   "cell_type": "code",
   "execution_count": null,
   "id": "f3b5ad84",
   "metadata": {},
   "outputs": [],
   "source": [
    "# Première solution\n",
    "import Cryptographie.cesar as cesar\n",
    "\n",
    "code= cesar.chiffre_cesar(\"C'est super la cryptographie !\",5)\n",
    "print(code)\n",
    "print(code==\"H'jxy xzujw qf hwduytlwfumnj !\")\n",
    "\n",
    "decode = cesar.dechiffre_cesar(code,5)\n",
    "print(decode)\n",
    "\n",
    "print(\"\\n Déchiffrage \\n\")\n",
    "i=0\n",
    "while i<26:\n",
    "    print(cesar.dechiffre_cesar(\"oaz jk borrkzgtkayk\",i))\n",
    "    i+=1"
   ]
  },
  {
   "cell_type": "code",
   "execution_count": null,
   "id": "40816229",
   "metadata": {},
   "outputs": [],
   "source": [
    "# Deuxième solution\n",
    "from Cryptographie.cesar import *\n",
    "\n",
    "code= chiffre_cesar(\"C'est super la cryptographie !\",5)\n",
    "print(code)\n",
    "print(code==\"H'jxy xzujw qf hwduytlwfumnj !\")\n",
    "\n",
    "decode = dechiffre_cesar(code,5)\n",
    "print(decode)\n",
    "\n",
    "print(\"\\n Déchiffrage \\n\")\n",
    "i=0\n",
    "while i<26:\n",
    "    print(dechiffre_cesar(\"oaz jk borrkzgtkayk\",i))\n",
    "    i+=1"
   ]
  },
  {
   "cell_type": "code",
   "execution_count": null,
   "id": "f9e843b7",
   "metadata": {},
   "outputs": [],
   "source": [
    "# Troisième solution\n",
    "import Cryptographie.cesar as cs\n",
    "\n",
    "code= cs.chiffre_cesar(\"C'est super la cryptographie !\",5)\n",
    "print(code)\n",
    "print(code==\"H'jxy xzujw qf hwduytlwfumnj !\")\n",
    "\n",
    "decode = cs.dechiffre_cesar(code,5)\n",
    "print(decode)\n",
    "\n",
    "print(\"\\n Déchiffrage \\n\")\n",
    "i=0\n",
    "while i<26:\n",
    "    print(cs.dechiffre_cesar(\"oaz jk borrkzgtkayk\",i))\n",
    "    i+=1"
   ]
  }
 ],
 "metadata": {
  "kernelspec": {
   "display_name": "Python 3 (ipykernel)",
   "language": "python",
   "name": "python3"
  },
  "language_info": {
   "codemirror_mode": {
    "name": "ipython",
    "version": 3
   },
   "file_extension": ".py",
   "mimetype": "text/x-python",
   "name": "python",
   "nbconvert_exporter": "python",
   "pygments_lexer": "ipython3",
   "version": "3.11.4"
  }
 },
 "nbformat": 4,
 "nbformat_minor": 5
}
