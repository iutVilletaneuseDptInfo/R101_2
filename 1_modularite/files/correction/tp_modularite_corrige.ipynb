{
 "cells": [
  {
   "cell_type": "markdown",
   "id": "273deccd",
   "metadata": {
    "deletable": false,
    "editable": false,
    "run_control": {
     "frozen": true
    }
   },
   "source": [
    "# TP : Modularité en Python - Correction"
   ]
  },
  {
   "cell_type": "markdown",
   "id": "10db734a",
   "metadata": {
    "deletable": false,
    "editable": false,
    "run_control": {
     "frozen": true
    }
   },
   "source": [
    "## Exercice 1 : Algorithme de César"
   ]
  },
  {
   "cell_type": "markdown",
   "id": "9c683d02",
   "metadata": {
    "deletable": false,
    "editable": false,
    "run_control": {
     "frozen": true
    }
   },
   "source": [
    "Le chiffrement de César repose sur la rotation de l’alphabet d’un nombre fixé de caractères. Par exemple, si on considère une rotation de 5 caractères, on obtient la table de conversion ci-dessous :\n",
    "\n",
    "* *Caractère initial* : a, b , c, d, e, ...\n",
    "\n",
    "* *Caractère transformé* : f, \tg, \th, \ti, \tj, ...\n",
    "\n",
    "\n",
    "\n",
    "La fonction `chiffre_cesar(s,n)` définie ci-dessous chiffre le message `s` avec un décalage de `n` caractères. Elle transforme uniquement les lettres a, b, c, ..., z (minuscules ou majuscules) sans toucher aux signes de ponctuation ou autres caractères spéciaux.\n",
    "\n",
    "**Rappels :** La fonction `ord(c)` retourne le code Unicode du caractère `c` et la fonction `chr(i)` retourne la lettre dont le code Unicode est `i`. Par exemple :\n",
    "  ```python\n",
    "  unicode = ord(\"a\")           # unicode contient 97 car le code Unicode de \"a\" est 97\n",
    "  lettre = chr(98)             # lettre contient la valeur \"b\" car c'est son code Unicode\n",
    "  print(chr(ord(\"a\")) == \"a\")  # Affiche True\n",
    "  ```"
   ]
  },
  {
   "cell_type": "code",
   "execution_count": 2,
   "id": "b888502a",
   "metadata": {},
   "outputs": [
    {
     "name": "stdout",
     "output_type": "stream",
     "text": [
      "uryyb JBEYQ\n"
     ]
    }
   ],
   "source": [
    "def chiffre_lettre(c, n):\n",
    "    \"\"\"\n",
    "        Retourne le chiffrement de la lettre c : \n",
    "        - si c est une lettre, alors la lettre est décalée de n caractères\n",
    "        - autrement, aucune modification n'est faite\n",
    "    \"\"\"\n",
    "    if 'a' <= c and c <= 'z':  # si c est une lettre\n",
    "        chiffree = chr((ord(c) + n - ord('a')) % 26 + ord('a'))  # décalée de n\n",
    "    elif 'A' <= c and c <= 'Z':\n",
    "        chiffree = chr((ord(c) + n - ord('A')) % 26 + ord('A'))  # décalée de n\n",
    "    else:\n",
    "        chiffree = c  # inchangée\n",
    "    return chiffree\n",
    "\n",
    "\n",
    "def chiffre_cesar(s, n):\n",
    "    \"\"\"\n",
    "       Retourne la chaîne s où chaque lettre\n",
    "       est décalée de n \"vers la droite\". \n",
    "       Exemple : chiffre_cesar(\"Hello World!\", 2) retourne \"Jgnnq Yqtnf!\"\n",
    "    \"\"\"\n",
    "    chiffree = \"\"  # chaîne chiffrée\n",
    "    i=0\n",
    "    while i< len(s):\n",
    "        chiffree += chiffre_lettre(s[i], n)  # inchangée\n",
    "        i+=1\n",
    "    return chiffree\n",
    "\n",
    "\n",
    "def dechiffre_cesar(s, n):\n",
    "    \"\"\"\n",
    "       Retourne la chaîne s où chaque lettre (changée en minuscules) \n",
    "       est décalée de n \"vers la gauche\". \n",
    "       Exemple : dechiffre_cesar(\"jgnnq yqtnf!\", 2) retourne \"hello world!\"\n",
    "    \"\"\"\n",
    "    return chiffre_cesar(s, -n)\n",
    "\n",
    "\n",
    "print(chiffre_cesar(\"hello WORLD\", 13))"
   ]
  },
  {
   "cell_type": "markdown",
   "id": "3775bb81",
   "metadata": {
    "deletable": false,
    "editable": false,
    "run_control": {
     "frozen": true
    }
   },
   "source": [
    "### Question 1 \n",
    "\n",
    "Créer une fonction de tests unitaires pour chacune des fonctions précédentes."
   ]
  },
  {
   "cell_type": "code",
   "execution_count": 4,
   "id": "e2114529",
   "metadata": {},
   "outputs": [
    {
     "name": "stdout",
     "output_type": "stream",
     "text": [
      "test de la fonction chiffre_lettre ok\n"
     ]
    }
   ],
   "source": [
    "##################\n",
    "#   Correction   #\n",
    "##################\n",
    "\n",
    "def test_chiffre_lettre():\n",
    "    assert chiffre_lettre(\"e\",2)==\"g\"\n",
    "    assert chiffre_lettre(\"E\",2)==\"G\"\n",
    "    assert chiffre_lettre(\"A\",26)==\"A\"\n",
    "    assert chiffre_lettre(\":\",13)==\":\"\n",
    "    print(\"test de la fonction chiffre_lettre ok\")\n",
    "\n",
    "test_chiffre_lettre()"
   ]
  },
  {
   "cell_type": "code",
   "execution_count": 3,
   "id": "a08d222b",
   "metadata": {
    "tags": [
     "answer"
    ]
   },
   "outputs": [
    {
     "name": "stdout",
     "output_type": "stream",
     "text": [
      "test de la fonction chiffre_cesar : ok\n"
     ]
    }
   ],
   "source": [
    "##################\n",
    "#   Correction   #\n",
    "##################\n",
    "\n",
    "\n",
    "def test_chiffre_cesar():\n",
    "    assert chiffre_cesar(\"hello world!\", 2) == \"jgnnq yqtnf!\"\n",
    "    assert chiffre_cesar(\"HELLO WORLD!\", 1) == \"IFMMP XPSME!\"\n",
    "    assert chiffre_cesar(\"hello world!\", 26) == \"hello world!\"\n",
    "    assert chiffre_cesar(\"hello world!\", 0) == \"hello world!\"\n",
    "    assert chiffre_cesar(\"\", 0) == \"\"\n",
    "    assert chiffre_cesar(\"\", 5) == \"\"\n",
    "    print(\"test de la fonction chiffre_cesar : ok\")\n",
    "\n",
    "\n",
    "test_chiffre_cesar()"
   ]
  },
  {
   "cell_type": "code",
   "execution_count": null,
   "id": "0835af95",
   "metadata": {
    "tags": [
     "answer"
    ]
   },
   "outputs": [],
   "source": [
    "##################\n",
    "#   Correction   #\n",
    "##################\n",
    "\n",
    "\n",
    "def test_dechiffre_cesar():\n",
    "    assert dechiffre_cesar(\"jgnnq yqtnf!\", 2) == \"hello world!\"\n",
    "    assert dechiffre_cesar(\"ifmmp xpsme!\", 1) == \"hello world!\"\n",
    "    assert dechiffre_cesar(\"hello world!\", 26) == \"hello world!\"\n",
    "    assert dechiffre_cesar(\"hello world!\", 0) == \"hello world!\"\n",
    "    assert dechiffre_cesar(\"\", 0) == \"\"\n",
    "    assert dechiffre_cesar(\"\", 5) == \"\"\n",
    "    s = \"Genial ! j'arrive a chiffrer et dechiffrer un message\"\n",
    "    assert dechiffre_cesar(chiffre_cesar(s, 17), 17) == s\n",
    "    print(\"test de la fonction dechiffre_cesar : ok\")\n",
    "\n",
    "\n",
    "test_dechiffre_cesar()"
   ]
  },
  {
   "cell_type": "markdown",
   "id": "6c17fb9f",
   "metadata": {
    "deletable": false,
    "editable": false,
    "run_control": {
     "frozen": true
    }
   },
   "source": [
    "### Question 2\n",
    "\n",
    "Créer un module `cesar` contenant les trois fonctions."
   ]
  },
  {
   "cell_type": "markdown",
   "id": "13c28a08",
   "metadata": {
    "deletable": false,
    "editable": false,
    "run_control": {
     "frozen": true
    }
   },
   "source": [
    "### Question 3\n",
    "\n",
    "Créer dans le même répertoire que le fichier `cesar.py` le fichier `programme.py`. \n",
    "Ce dernier importe le module `cesar`, demande à l'utilisateur un message, l'affiche et affiche toutes les versions chiffrées que l'on peut obtenir avec le code césar."
   ]
  },
  {
   "cell_type": "markdown",
   "id": "e8ab9290",
   "metadata": {
    "deletable": false,
    "editable": false,
    "run_control": {
     "frozen": true
    }
   },
   "source": [
    "### Question 4\n",
    "\n",
    "Créer un notebook dans le même répertoire que le fichier `cesar.py`. Importer dans le notebook le module `cesar`. Faire un code qui vérifie que le message `C'est super la cryptographie !` codé avec la clé 5 donne `H'jxy xzujw qf hwduytlwfumnj !`. Vérifier également que le décodage de cette chaîne avec la clé 5 redonne bien `C'est super la cryptographie !`."
   ]
  },
  {
   "cell_type": "markdown",
   "id": "5a9a8cf0",
   "metadata": {
    "deletable": false,
    "editable": false,
    "run_control": {
     "frozen": true
    }
   },
   "source": [
    "### Question 5\n",
    "\n",
    "Dans le notebook, essayer tous les décodages de `oaz jk borrkzgtkayk` possibles pour trouver le message codé.\n"
   ]
  },
  {
   "cell_type": "markdown",
   "id": "45501162",
   "metadata": {
    "deletable": false,
    "editable": false,
    "run_control": {
     "frozen": true
    }
   },
   "source": [
    "### Question 6\n",
    "\n",
    "Faire en sorte que si l'on exécute le fichier `cesar.py` (et uniquement dans ce cas), alors le script affiche la version chiffrée (avec la clé 10) de la chaîne `Le script cesar.py est execute !`."
   ]
  },
  {
   "cell_type": "markdown",
   "id": "116d9adb",
   "metadata": {
    "deletable": false,
    "editable": false,
    "run_control": {
     "frozen": true
    },
    "tags": [
     "answer",
     "removeFromStudent"
    ]
   },
   "source": [
    "**CORRECTION :**\n",
    "\n",
    "\n",
    "<a href=\"files/correction/modularite/Exercice1.zip\">Archive contenant la correction de l'exercice 1</a>."
   ]
  },
  {
   "cell_type": "markdown",
   "id": "7d0b54e8",
   "metadata": {
    "deletable": false,
    "editable": false,
    "run_control": {
     "frozen": true
    }
   },
   "source": [
    "## Exercice 2 : Package Cryptographie"
   ]
  },
  {
   "cell_type": "markdown",
   "id": "a7b33145",
   "metadata": {
    "deletable": false,
    "editable": false,
    "run_control": {
     "frozen": true
    }
   },
   "source": [
    "### Question 1 \n",
    "\n",
    "Créer un package `Cryptographie` et déplacer le module `cesar` à l'intérieur de ce package. Modifier le fichier `programme.py` et le notebook pour qu'ils utilisent le module `cesar` du package `Cryptographie`."
   ]
  },
  {
   "cell_type": "markdown",
   "id": "dc9eb8c4",
   "metadata": {},
   "source": [
    "### Question 2\n",
    "\n",
    "Dans le package Cryptographie, ajouter un fichier `test_cesar.py` contenant les tests unitaires des fonctions de `chiffre_cesar` et `dechiffre_cesar` définis dans la Question 1 de l'Exercice 1.\n",
    "\n",
    "Vérifier que vos fonctions satisfont les tests unitaires avec `pytest`."
   ]
  },
  {
   "cell_type": "markdown",
   "id": "466fcdeb",
   "metadata": {},
   "source": [
    "### Question 3\n",
    "\n",
    "Un cas particulier du chiffrement de César est le chiffrement [ROT13](https://fr.wikipedia.org/wiki/ROT13) qui correspond au chiffrement de César avec la clé 13. L'intérêt de ce chiffrement est que le chiffrement correspond au déchiffrement.\n",
    "\n",
    "Définir un module `rot13` dans le package `Cryptographie` qui définit les fonctions `chiffrement_ROT13` et `dechiffrement_ROT13`. Ce module utilisera la fonction `chiffrement_cesar` défini dans le module `cesar` du package `Cryptographie`.\n",
    "\n",
    "Modifier le fichier `programme.py` pour qu'il affiche le codage de `hello world` obtenu avec ROT13 (le seul module importé dans votre programme doit être dans ce cas le module `rot13`).<br>\n",
    "**Attention :** Il faut importer dans `rot13` le module `Cryptographie.cesar` (et pas `cesar`)."
   ]
  },
  {
   "cell_type": "markdown",
   "id": "df776d7f",
   "metadata": {
    "deletable": false,
    "editable": false,
    "tags": [
     "answer",
     "removeFromStudent"
    ]
   },
   "source": [
    "**CORRECTION :**\n",
    "\n",
    "\n",
    "<a href=\"exercice2.zip\">Archive contenant la correction de l'exercice 2</a>."
   ]
  },
  {
   "cell_type": "markdown",
   "id": "27d58991",
   "metadata": {
    "deletable": false,
    "editable": false
   },
   "source": [
    "## Exercice 3 : Analyse de tableaux de données\n",
    "\n",
    "On souhaite définir un ensemble de fonctions permettant de manipuler des tableaux de nombres. Ces fonctions seront regroupées dans un package `arrayNumbers` au sein de trois modules.\n",
    "\n",
    "**Remarque :** Pour chaque module, il faudra également définir un module de tests.\n",
    "\n",
    "### Question 1\n",
    "\n",
    "Définir le module `calculus` contenant les définitions de fonctions suivantes :\n",
    "- `array_sum` :  cette fonction prend en paramètre un tableau de nombres et retourne la somme des nombres de ce tableau."
   ]
  },
  {
   "cell_type": "code",
   "execution_count": null,
   "id": "a30152b8",
   "metadata": {
    "deletable": false,
    "editable": false
   },
   "outputs": [],
   "source": [
    "def array_sum(tab):\n",
    "    somme = 0\n",
    "    i = 0\n",
    "    while i < len(tab):\n",
    "        somme += tab[i]\n",
    "        i += 1\n",
    "    return somme"
   ]
  },
  {
   "cell_type": "markdown",
   "id": "6b93c61e",
   "metadata": {
    "deletable": false,
    "editable": false
   },
   "source": [
    "- `array_average` : cette fonction prend en paramètre un tableau de nombres et retourne la moyenne des nombres de ce tableau."
   ]
  },
  {
   "cell_type": "code",
   "execution_count": null,
   "id": "673da7e8",
   "metadata": {
    "deletable": false,
    "editable": false
   },
   "outputs": [],
   "source": [
    "def array_average(tab):\n",
    "    return array_sum(tab) / len(tab)"
   ]
  },
  {
   "cell_type": "markdown",
   "id": "6c718707",
   "metadata": {
    "deletable": false,
    "editable": false
   },
   "source": [
    "- `array_variance` : cette fonction prend en paramètre un tableau de nombres et retourne la variance des nombres de ce tableau. La variance des nombres $x_1,\\dots, x_n$ est donnée par la formule : $$\\frac{1}{n}\\sum_{i=1}^n (x_i - \\bar x)^2$$ où $\\bar x$ correspond à la moyenne des nombres $x_1,\\dots, x_n$."
   ]
  },
  {
   "cell_type": "code",
   "execution_count": null,
   "id": "8a03de62",
   "metadata": {
    "deletable": false,
    "editable": false
   },
   "outputs": [],
   "source": [
    "def array_variance(tab):\n",
    "    m = array_average(tab)\n",
    "    somme = 0\n",
    "    i = 0\n",
    "    while i < len(tab):\n",
    "        somme += (tab[i] - m)**2\n",
    "        i += 1\n",
    "    return somme / len(tab)"
   ]
  },
  {
   "cell_type": "markdown",
   "id": "6580f7d4",
   "metadata": {
    "deletable": false,
    "editable": false
   },
   "source": [
    "### Question 2\n",
    "\n",
    "Définir le module `filter` contenant les définitions de fonctions suivantes :\n",
    "- `eltsLessThan` : cette fonction prend en paramètre un tableau de nombres `t` et un seuil (nombre) `s` et retourne un nouveau tableau contenant tous les nombres de `t` qui sont plus petits que `s`.\n",
    "- `eltsBetween` : cette fonction prend en paramètre un tableau de nombres `t` et un intervalle défini par deux nombres `a` et `b` et retourne un nouveau tableau contenant tous les nombres de `t` qui sont dans l'intervalle `[a,b]`.\n",
    "\n",
    "\n",
    "### Question 3\n",
    "\n",
    "Le module `inOut` permet le chargement/sauvegarde de tableaux de nombres dans des fichiers. Le format de fichier utilisé est le suivant : la première ligne contient le nombre de valeurs du tableau et chaque ligne suivante contient une valeur. Ainsi, le contenu du fichier représentant le tableau `[45.5, -12.3, 9.7]` est le suivant :\n",
    "```\n",
    "3\n",
    "45.5\n",
    "-12.3\n",
    "9.7\n",
    "```\n",
    "\n",
    "Définir le module `inOut` contenant les définitions de fonctions suivantes :\n",
    "- `readFromFile` : cette fonction prend en paramètre un nom de fichier (chaîne de caractères) et retourne le tableau de nombres correspondant au fichier.\n",
    "- `writeToFile` : cette fonction prend en paramètre un tableau de nombres et un nom de fichier, et sauvegarde le tableau de nombres dans le fichier."
   ]
  },
  {
   "cell_type": "markdown",
   "id": "4301e4e7",
   "metadata": {
    "deletable": false,
    "editable": false
   },
   "source": [
    "### Question 4\n",
    "\n",
    "Ecrire un programme principal qui affiche pour le tableau \n",
    "```\n",
    "t=[1,2,3,4,5,6,7,8,9,10]\n",
    "```\n",
    "la somme, la moyenne et la variance de ses élements, ainsi que le tableau des élements qui sont plus petits que 5 et celui des élements de l'intervalle `[2,3]`. \n",
    "\n",
    "Sauvegarder le tableau `t` dans un fichier `test.txt`."
   ]
  },
  {
   "cell_type": "markdown",
   "id": "20e9d48d",
   "metadata": {
    "deletable": false,
    "editable": false,
    "tags": [
     "answer",
     "removeFromStudent"
    ]
   },
   "source": [
    "**CORRECTION :**\n",
    "\n",
    "\n",
    "<a href=\"exercice3.zip\">Archive contenant la correction de l'exercice 3</a>."
   ]
  }
 ],
 "metadata": {
  "kernelspec": {
   "display_name": "Python 3 (ipykernel)",
   "language": "python",
   "name": "python3"
  },
  "language_info": {
   "codemirror_mode": {
    "name": "ipython",
    "version": 3
   },
   "file_extension": ".py",
   "mimetype": "text/x-python",
   "name": "python",
   "nbconvert_exporter": "python",
   "pygments_lexer": "ipython3",
   "version": "3.11.4"
  }
 },
 "nbformat": 4,
 "nbformat_minor": 5
}
