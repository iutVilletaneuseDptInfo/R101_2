{
 "cells": [
  {
   "cell_type": "markdown",
   "id": "273deccd",
   "metadata": {},
   "source": [
    "# <center> TP 1 : Modularité en Python </center>"
   ]
  },
  {
   "cell_type": "markdown",
   "id": "10db734a",
   "metadata": {
    "deletable": false,
    "editable": false,
    "run_control": {
     "frozen": true
    }
   },
   "source": [
    "## Exercice 1 : Algorithme de César"
   ]
  },
  {
   "cell_type": "markdown",
   "id": "e137e60c",
   "metadata": {
    "deletable": false,
    "editable": false
   },
   "source": [
    "Le chiffrement de César repose sur la rotation de l’alphabet d’un nombre fixé de caractères. Par exemple, si on considère une rotation de 5 caractères, on obtient la table de conversion ci-dessous :\n",
    "* Caractère initial : a, b , c, d, e, ...\n",
    "* Caractère transformé : f, g, h, i, j, ...\n",
    "\n",
    "La fonction `chiffre_cesar(s,n)` définie ci-dessous chiffre le message `s` avec un décalage de `n` caractères. Elle transforme uniquement les lettres a, b, c, ..., z (minuscules ou majuscules) sans toucher aux signes de ponctuation ou autres caractères spéciaux.\n",
    "\n",
    "**NB :** La fonction `ord(c)` retourne le code Unicode du caractère `c` et la fonction `chr(i)` retourne la lettre dont le code Unicode est `i`. Par exemple :"
   ]
  },
  {
   "cell_type": "code",
   "execution_count": null,
   "id": "87a519ac",
   "metadata": {
    "deletable": false,
    "editable": false
   },
   "outputs": [],
   "source": [
    "unicode = ord(\"a\")           # unicode contient 97 car le code Unicode \n",
    "                             # de \"a\" est 97\n",
    "lettre = chr(98)             # lettre contient la valeur \"b\" car \n",
    "                             # son code Unicode est 98\n",
    "print(chr(ord(\"a\")) == \"a\")  # Affiche True"
   ]
  },
  {
   "cell_type": "code",
   "execution_count": null,
   "id": "b888502a",
   "metadata": {},
   "outputs": [],
   "source": [
    "def chiffre_lettre(c, n):\n",
    "    \"\"\"\n",
    "        Retourne le chiffrement de la lettre c : \n",
    "        - si c est une lettre, alors la lettre est décalée de n caractères\n",
    "        - autrement, aucune modification n'est faite\n",
    "    \"\"\"\n",
    "    if 'a' <= c and c <= 'z':  # si c est une lettre\n",
    "        chiffree = chr((ord(c) + n - ord('a')) % 26 + ord('a'))  # décalée de n\n",
    "    elif 'A' <= c and c <= 'Z':\n",
    "        chiffree = chr((ord(c) + n - ord('A')) % 26 + ord('A'))  # décalée de n\n",
    "    else:\n",
    "        chiffree = c  # inchangée\n",
    "    return chiffree\n",
    "\n",
    "\n",
    "def chiffre_cesar(s, n):\n",
    "    \"\"\"\n",
    "       Retourne la chaîne s où chaque lettre\n",
    "       est décalée de n \"vers la droite\". \n",
    "       Exemple : chiffre_cesar(\"Hello World!\", 2) \n",
    "                 retourne \"Jgnnq Yqtnf!\"\n",
    "    \"\"\"\n",
    "    chiffree = \"\"  # chaîne chiffrée\n",
    "    i=0\n",
    "    while i< len(s):\n",
    "        chiffree += chiffre_lettre(s[i], n)  \n",
    "        i+=1\n",
    "    return chiffree\n",
    "\n",
    "\n",
    "def dechiffre_cesar(s, n):\n",
    "    \"\"\"\n",
    "       Retourne la chaîne s où chaque lettre\n",
    "       est décalée de 26-n \"vers la droite\" \n",
    "       pour retomber sur la lettre initiale\n",
    "       Exemple : dechiffre_cesar(\"jgnnq yqtnf!\", 24) \n",
    "                 retourne \"hello world!\"\n",
    "    \"\"\"\n",
    "    return chiffre_cesar(s,26-n)\n",
    "\n",
    "\n",
    "message_codé =chiffre_cesar(\"hello WORLD\", 9)\n",
    "print(message_codé)\n",
    "message_initial = chiffre_cesar(message_codé,17)\n",
    "print(message_initial)"
   ]
  },
  {
   "cell_type": "markdown",
   "id": "3775bb81",
   "metadata": {
    "deletable": false,
    "editable": false,
    "run_control": {
     "frozen": true
    }
   },
   "source": [
    "### Question 1 \n",
    "\n",
    "Créer une fonction de tests unitaires pour chacune des fonctions précédentes."
   ]
  },
  {
   "cell_type": "code",
   "execution_count": null,
   "id": "a08d222b",
   "metadata": {
    "tags": [
     "answer"
    ]
   },
   "outputs": [],
   "source": [
    "############################## \n",
    "#   Saisir votre code ici.   #\n",
    "##############################\n",
    "\n",
    "\n"
   ]
  },
  {
   "cell_type": "markdown",
   "id": "6c17fb9f",
   "metadata": {},
   "source": [
    "### Question 2\n",
    "\n",
    "Créer un module `cesar` contenant les trois fonctions."
   ]
  },
  {
   "cell_type": "markdown",
   "id": "13c28a08",
   "metadata": {},
   "source": [
    "### Question 3\n",
    "\n",
    "Créer dans le même répertoire que le fichier `cesar.py` le fichier `programme.py`. \n",
    "Ce dernier importe le module `cesar`, demande à l'utilisateur un message, l'affiche et affiche les 26 versions chiffrées que l'on peut obtenir avec le code césar."
   ]
  },
  {
   "cell_type": "markdown",
   "id": "e8ab9290",
   "metadata": {},
   "source": [
    "### Question 4\n",
    "\n",
    "Créer un notebook dans le même répertoire que le fichier `cesar.py`. Importer dans le notebook le module `cesar`. \n",
    "\n",
    "Ecrire un code qui vérifie que le message `C'est super la cryptographie !` codé avec la clé 5 donne `H'jxy xzujw qf hwduytlwfumnj !`.Vérifier également que le décodage de cette chaîne avec la clé 5 redonne bien `C'est super la cryptographie !`."
   ]
  },
  {
   "cell_type": "markdown",
   "id": "5a9a8cf0",
   "metadata": {
    "deletable": false,
    "editable": false,
    "run_control": {
     "frozen": true
    }
   },
   "source": [
    "### Question 5\n",
    "\n",
    "Dans le notebook, essayer tous les décodages de `oaz jk borrkzgtkayk` possibles pour trouver le message codé.\n"
   ]
  },
  {
   "cell_type": "markdown",
   "id": "45501162",
   "metadata": {},
   "source": [
    "### Question 6\n",
    "\n",
    "Faire en sorte que si l'on exécute le fichier `cesar.py` (et uniquement dans ce cas), alors le script affiche la version chiffrée (avec la clé 10) de la chaîne `Le script cesar.py est executé !`."
   ]
  },
  {
   "cell_type": "markdown",
   "id": "7d0b54e8",
   "metadata": {
    "deletable": false,
    "editable": false,
    "run_control": {
     "frozen": true
    }
   },
   "source": [
    "## Exercice 2 : Package Cryptographie"
   ]
  },
  {
   "cell_type": "markdown",
   "id": "a7b33145",
   "metadata": {
    "deletable": false,
    "editable": false,
    "run_control": {
     "frozen": true
    }
   },
   "source": [
    "### Question 1 \n",
    "\n",
    "Créer un package `Cryptographie` et déplacer le module `cesar` à l'intérieur de ce package. Modifier le fichier `programme.py` et le notebook pour qu'ils utilisent le module `cesar` du package `Cryptographie`."
   ]
  },
  {
   "cell_type": "markdown",
   "id": "dc9eb8c4",
   "metadata": {
    "deletable": false,
    "editable": false
   },
   "source": [
    "### Question 2\n",
    "\n",
    "Dans le package Cryptographie, ajouter un fichier `test_cesar.py` contenant les tests unitaires des fonctions de `chiffre_cesar` et `dechiffre_cesar` définis dans la Question de l'Exercice 1.\n",
    "\n",
    "Vérifier que vos fonctions satisfont les tests unitaires avec `pytest`."
   ]
  },
  {
   "cell_type": "markdown",
   "id": "466fcdeb",
   "metadata": {},
   "source": [
    "### Question 3\n",
    "\n",
    "Un cas particulier du chiffrement de César est le chiffrement [ROT13](https://fr.wikipedia.org/wiki/ROT13) qui correspond au chiffrement de César avec la clé 13. L'intérêt de ce chiffrement est que le chiffrement correspond au déchiffrement.\n",
    "\n",
    "Définir un module `rot13` dans le package `Cryptographie` qui définit les fonctions `chiffrement_ROT13` et `dechiffrement_ROT13`. Ce module utilisera la fonction `chiffrement_cesar` défini dans le module `cesar` du package `Cryptographie`.\n",
    "\n",
    "Modifier le fichier `programme.py` pour qu'il affiche le codage de `hello world` obtenu avec ROT13 (le seul module importé dans votre programme doit être dans ce cas le module `rot13`).<br>\n",
    "**Attention :** Il faut importer dans `rot13` le module `Cryptographie.cesar` (et pas `cesar`)."
   ]
  },
  {
   "cell_type": "markdown",
   "id": "538861fc",
   "metadata": {},
   "source": [
    "## Exercice 3 : Analyse de tableaux de données\n",
    "\n",
    "On souhaite définir un ensemble de fonctions permettant de manipuler des tableaux de nombres. Ces fonctions seront regroupées dans un package `arrayNumbers` au sein de trois modules.\n",
    "\n",
    "**Remarque :** Pour chaque module, il faudra également définir un module de tests.\n",
    "\n",
    "### Question 1\n",
    "\n",
    "Définir le module `calculus` contenant les définitions de fonctions suivantes :\n",
    "- `array_sum` :  cette fonction prend en paramètre un tableau de nombres et retourne la somme des nombres de ce tableau."
   ]
  },
  {
   "cell_type": "code",
   "execution_count": null,
   "id": "500334d8",
   "metadata": {},
   "outputs": [],
   "source": [
    "def array_sum(tab):\n",
    "    somme = 0\n",
    "    i = 0\n",
    "    while i < len(tab):\n",
    "        somme += tab[i]\n",
    "        i += 1\n",
    "    return somme"
   ]
  },
  {
   "cell_type": "markdown",
   "id": "c00b010c",
   "metadata": {},
   "source": [
    "- `array_average` : cette fonction prend en paramètre un tableau de nombres et retourne la moyenne des nombres de ce tableau."
   ]
  },
  {
   "cell_type": "code",
   "execution_count": null,
   "id": "b5dc7af9",
   "metadata": {},
   "outputs": [],
   "source": [
    "def array_average(tab):\n",
    "    return array_sum(tab) / len(tab)"
   ]
  },
  {
   "cell_type": "markdown",
   "id": "d879ce7f",
   "metadata": {},
   "source": [
    "- `array_variance` : cette fonction prend en paramètre un tableau de nombres et retourne la variance des nombres de ce tableau. La variance des nombres $x_1,\\dots, x_n$ est donnée par la formule : $$\\frac{1}{n}\\sum_{i=1}^n (x_i - \\bar x)^2$$ où $\\bar x$ correspond à la moyenne des nombres $x_1,\\dots, x_n$."
   ]
  },
  {
   "cell_type": "code",
   "execution_count": null,
   "id": "e1c8935f",
   "metadata": {},
   "outputs": [],
   "source": [
    "def array_variance(tab):\n",
    "    m = array_average(tab)\n",
    "    somme = 0\n",
    "    i = 0\n",
    "    while i < len(tab):\n",
    "        somme += (tab[i] - m)**2\n",
    "        i += 1\n",
    "    return somme / len(tab)"
   ]
  },
  {
   "cell_type": "markdown",
   "id": "fad1f2a4",
   "metadata": {},
   "source": [
    "### Question 2\n",
    "\n",
    "Définir le module `filter` contenant les définitions de fonctions suivantes :\n",
    "- `eltsLessThan` : cette fonction prend en paramètre un tableau de nombres `tab` et un seuil (nombre) `threshold` et retourne un nouveau tableau contenant tous les nombres de `tab` qui sont plus petits que `treshold`."
   ]
  },
  {
   "cell_type": "markdown",
   "id": "ce37e161",
   "metadata": {},
   "source": [
    "- `eltsBetween` : cette fonction prend en paramètre un tableau de nombres `tab` et un intervalle défini par deux nombres `a` et `b` et retourne un nouveau tableau contenant tous les nombres de `t` qui sont dans l'intervalle `[a,b]`."
   ]
  },
  {
   "cell_type": "markdown",
   "id": "6580f7d4",
   "metadata": {},
   "source": [
    "### Question 3\n",
    "\n",
    "Le module `inOut` permet le chargement/sauvegarde de tableaux de nombres dans des fichiers. Le format de fichier utilisé est le suivant : la première ligne contient le nombre de valeurs du tableau et chaque ligne suivante contient une valeur. Ainsi, le contenu du fichier représentant le tableau `[45.5, -12.3, 9.7]` est le suivant :\n",
    "```\n",
    "3\n",
    "45.5\n",
    "-12.3\n",
    "9.7\n",
    "```\n",
    "\n",
    "Définir le module `inOut` contenant les définitions de fonctions suivantes :\n",
    "- `readFromFile` : cette fonction prend en paramètre un nom de fichier (chaîne de caractères) et retourne le tableau de nombres correspondant au fichier.\n",
    "- `writeToFile` : cette fonction prend en paramètre un tableau de nombres et un nom de fichier, et sauvegarde le tableau de nombres dans le fichier."
   ]
  }
 ],
 "metadata": {
  "kernelspec": {
   "display_name": "Python 3 (ipykernel)",
   "language": "python",
   "name": "python3"
  },
  "language_info": {
   "codemirror_mode": {
    "name": "ipython",
    "version": 3
   },
   "file_extension": ".py",
   "mimetype": "text/x-python",
   "name": "python",
   "nbconvert_exporter": "python",
   "pygments_lexer": "ipython3",
   "version": "3.11.4"
  }
 },
 "nbformat": 4,
 "nbformat_minor": 5
}
