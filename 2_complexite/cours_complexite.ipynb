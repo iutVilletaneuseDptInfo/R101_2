{
 "cells": [
  {
   "cell_type": "markdown",
   "id": "4e5e3697",
   "metadata": {
    "slideshow": {
     "slide_type": ""
    },
    "tags": []
   },
   "source": [
    "# <center> Cours 2 : Complexité <center/>"
   ]
  },
  {
   "cell_type": "markdown",
   "id": "378b4d0f",
   "metadata": {},
   "source": [
    "De manière générale, un algorithme effectue un traitement sur des données.\n",
    "S'il produit le résultat escompté, on dit que l'algorithme est *correct*.\n",
    "Mais cela ne suffit pas. On veut que l'algorithme soit *efficace*, c'est-à-dire\n",
    "que le *temps de calcul* du résultat soit raisonnable.\n",
    "\n",
    "## Plusieurs chemins mènent à Rome, mais...\n",
    "\n",
    "Il y a souvent plusieurs façons d'arriver au résultat visé, autrement dit,\n",
    "plusieurs algorithmes pour résoudre un problème.\n",
    "\n",
    "On veut, par exemple, déplacer le premier élément d'un tableau pour le mettre à la fin.\n",
    "C'est ce qu'on appelle un *décalage circulaire*.\n",
    "\n",
    "**Exemple**\n",
    "* tableau de départ : `[1, 2, 3, 4, 5]` \n",
    "\n",
    "après le *décalage circulaire*\n",
    "\n",
    "* résultat : `[2, 3, 4, 5, 1]`"
   ]
  },
  {
   "cell_type": "markdown",
   "id": "1fc5c8fa",
   "metadata": {},
   "source": [
    "### Première solution\n",
    "1. Échanger les 1er et 2e éléments,\n",
    "2. échanger les 2e et 3e,\n",
    "3. échanger les 3e et 4e,\n",
    "4. et ainsi de suite jusqu'au dernier élément."
   ]
  },
  {
   "cell_type": "code",
   "execution_count": 8,
   "id": "92b713a4",
   "metadata": {},
   "outputs": [
    {
     "name": "stdout",
     "output_type": "stream",
     "text": [
      "[2, 3, 4, 5, 1]\n"
     ]
    }
   ],
   "source": [
    "def decalage1(t):\n",
    "    i = 0\n",
    "    while i < len(t)-1:\n",
    "        tmp = t[i]\n",
    "        t[i] = t[i+1]\n",
    "        t[i+1] = tmp\n",
    "        i += 1\n",
    "    \n",
    "tab = [1,2,3,4,5]\n",
    "decalage1(tab)\n",
    "print(tab)"
   ]
  },
  {
   "cell_type": "markdown",
   "id": "cfedebea",
   "metadata": {
    "deletable": false,
    "editable": false,
    "run_control": {
     "frozen": true
    }
   },
   "source": [
    "### Deuxième solution\n",
    "1. Sauvegarder le premier élément du tableau dans une variable,\n",
    "2. décaler tous les éléments d'une case vers la gauche,\n",
    "3. écrire l'élément sauvegardé en dernière position."
   ]
  },
  {
   "cell_type": "code",
   "execution_count": 9,
   "id": "28811a1e",
   "metadata": {},
   "outputs": [
    {
     "name": "stdout",
     "output_type": "stream",
     "text": [
      "[2, 3, 4, 5, 1]\n"
     ]
    }
   ],
   "source": [
    "def decalage2(t):\n",
    "    tmp = t[0]\n",
    "    i = 0\n",
    "    while i < len(t)-1:\n",
    "        t[i] = t[i+1]\n",
    "        i += 1\n",
    "        \n",
    "    t[len(t)-1] = tmp\n",
    "\n",
    "tab = [1,2,3,4,5]\n",
    "decalage2(tab)\n",
    "print(tab)"
   ]
  },
  {
   "cell_type": "markdown",
   "id": "2187cf5c",
   "metadata": {},
   "source": [
    "Les deux algorithmes sont corrects ; cependant, la question que l'on doit se poser est : **Lequel est le plus rapide ?**"
   ]
  },
  {
   "cell_type": "markdown",
   "id": "a08ab455",
   "metadata": {
    "lines_to_next_cell": 0
   },
   "source": [
    "## Mesure des performances avec `time`\n",
    "\n",
    "Pour répondre de manière expérimentale à la question précédente, on peut comparer le temps d'exécution nécessaire à chaque algorithme pour des mêmes données en entrée.\n",
    "\n",
    "Pour cela, on crée une fonction `gen_tab_alea` qui retourne un tableau de nombres réels aléatoires compris entre 0 et 1. Cette fonction permet de fournir des données en entrée à chaque algorithme."
   ]
  },
  {
   "cell_type": "code",
   "execution_count": 10,
   "id": "54c58559",
   "metadata": {},
   "outputs": [
    {
     "name": "stdout",
     "output_type": "stream",
     "text": [
      "[0.22534818566863435, 0.9792298433118761, 0.41101103882418266, 0.1497537398028379, 0.9784377789097951, 0.8454117122812642, 0.0889271175265115, 0.6677078675309882, 0.23063772030595342, 0.057940549029649624]\n"
     ]
    }
   ],
   "source": [
    "from random import random\n",
    "\n",
    "def gen_tab_alea(n):\n",
    "    tab = []\n",
    "    i = 0\n",
    "    while i < n: #ou while len(tab)<n\n",
    "        tab.append(random())\n",
    "        i += 1\n",
    "    return tab\n",
    "\n",
    "t = gen_tab_alea(10)\n",
    "print(t)"
   ]
  },
  {
   "cell_type": "markdown",
   "id": "743046ca",
   "metadata": {
    "deletable": false,
    "editable": false,
    "lines_to_next_cell": 0
   },
   "source": [
    "La bibliothèque `time` fournit un chronomètre (fonction `time`) qui permet de mesurer le temps d'exécution d'un code. La fonction `time` renvoie le nombre de secondes qui se sont écoulées depuis le début de l'ère Unix (The Epoch) le 1er janvier 1970. \n",
    "\n",
    "Pour utiliser ce chronomètre, il faut importer cette fonction :"
   ]
  },
  {
   "cell_type": "code",
   "execution_count": 11,
   "id": "442df1d7",
   "metadata": {},
   "outputs": [],
   "source": [
    "from time import time\n",
    "?time"
   ]
  },
  {
   "cell_type": "markdown",
   "id": "bbd206b3",
   "metadata": {},
   "source": [
    "Pour mesurer le temps d'exécution d'un code, il faut\n",
    "* lancer le chrononomètre au début du programme et l'arrêter à la fin.\n",
    "* calculer ensuite la différence entre les temps de départ et d'arrivée (pour obtenir la durée en sencondes).\n",
    "\n",
    "On peut chronométrer, par exemple, le temps nécessaire pour effectuer un décalage circulaire sur un tableau de taille 10000 avec la première méthode."
   ]
  },
  {
   "cell_type": "code",
   "execution_count": 17,
   "id": "845935df",
   "metadata": {},
   "outputs": [
    {
     "name": "stdout",
     "output_type": "stream",
     "text": [
      "3.65  ms\n"
     ]
    }
   ],
   "source": [
    "tab = gen_tab_alea(10000)\n",
    "\n",
    "tic = time()       # top départ\n",
    "\n",
    "########### Début du traitement à chronométer ###########\n",
    "decalage1(tab)\n",
    "############ Fin du traitement à chronométer ############\n",
    "\n",
    "tac = time()           # arrêt du chronomètre\n",
    "\n",
    "print(round(1000*(tac-tic),2),\" ms\") \n",
    "# on convertit en ms et on arrondit au centième de ms"
   ]
  },
  {
   "cell_type": "markdown",
   "id": "f611f919",
   "metadata": {
    "deletable": false,
    "editable": false,
    "run_control": {
     "frozen": true
    }
   },
   "source": [
    "En exécutant plusieurs fois ce programme, on constate que le temps n'est pas toujours\n",
    "le même. En effet, plusieurs processus sont actifs en permanence sur la machine (applications en tâche de fond, interface graphique, réseau...) et peuvent mobiliser le processeur. Pour atténuer ce phénomène, on peut calculer la moyenne d'un certain nombre de mesures (par exemple 500) des temps d'exécution."
   ]
  },
  {
   "cell_type": "code",
   "execution_count": 18,
   "id": "6beb055c",
   "metadata": {},
   "outputs": [
    {
     "name": "stdout",
     "output_type": "stream",
     "text": [
      "Tps moyen pour un décalage circulaire sur un tableau de taille 10000  avec decalage1 : 1.156 ms\n",
      "Tps moyen pour un décalage circulaire sur un tableau de taille 10000  avec decalage2 : 0.829 ms\n"
     ]
    }
   ],
   "source": [
    "def mesure_decalage1(tab):\n",
    "\n",
    "    nb_mesures = 500\n",
    "    \n",
    "    tic = time()       # top départ\n",
    "    \n",
    "    # On fait nb_messures decalages circulaires avec decalage1\n",
    "    i = 0\n",
    "    while i < nb_mesures:\n",
    "        decalage1(tab)\n",
    "        i+=1\n",
    "    \n",
    "    tac = time()        # arrêt du chronomètre\n",
    "    \n",
    "    # On fait la moyenne des temps d'exécutions (ms) \n",
    "    # des nb_mesures exécutions et on arrondit au millième\n",
    "    return round(1000*(tac-tic) / nb_mesures, 3)\n",
    "\n",
    "\n",
    "# Fonction pour mesurer le temps moyen pour effectuer \n",
    "# un décalage circulaire avec la deuxième méthode\n",
    "def mesure_decalage2(tab):\n",
    "    nb_mesures = 500    \n",
    "    tic = time()\n",
    "    i = 0\n",
    "    while i < nb_mesures:\n",
    "        decalage2(tab)\n",
    "        i+=1\n",
    "    tac = time()\n",
    "    return round(1000*(tac-tic) / nb_mesures, 3)\n",
    "\n",
    "\n",
    "n = 10000\n",
    "tab1 = gen_tab_alea(n)\n",
    "tab2 = tab1.copy()     #on fait une vraie copie des valeurs de tab1\n",
    "tps = mesure_decalage1(tab1)\n",
    "print(\"Tps moyen pour un décalage circulaire sur un tableau de taille\", n,\" avec decalage1 :\", tps, \"ms\")\n",
    "tps = mesure_decalage2(tab2)\n",
    "print(\"Tps moyen pour un décalage circulaire sur un tableau de taille\", n, \" avec decalage2 :\", tps, \"ms\")"
   ]
  },
  {
   "cell_type": "markdown",
   "id": "fef50236",
   "metadata": {
    "deletable": false,
    "editable": false,
    "run_control": {
     "frozen": true
    }
   },
   "source": [
    "En regardant les temps d'exécution, on s'aperçoit la deuxième méthode pour le décalage circulaire est plus rapide que la première méthode."
   ]
  },
  {
   "cell_type": "markdown",
   "id": "2c472abe",
   "metadata": {
    "deletable": false,
    "editable": false
   },
   "source": [
    "## Opérations élémentaires et complexité\n",
    "\n",
    "Il est difficile de comparer expérimentalement deux algorithmes en mesurant leur temps d'exécution, comme dans l'exemple ci-dessus. Il faut en effet implémenter les deux algorithmes et faire de nombreux tests sur le même ordinateur (la vitesse du processeur, cache, accès disque variant beaucoup d'un ordinateur à un autre). \n",
    "\n",
    "La *théorie de la complexité* permet de comparer des algorithmes sans même les implémenter. Elle permet de prédire le comportement d'un algorithme en fonction des données qu'il recevra en entrée. Par exemple, elle permet de répondre à des questions du type : \"Si le tableau en entrée est $100$ fois plus grand, est-ce que l'algorithme sera aussi long ? $100$ fois plus long ? $10\\,000$ fois plus long ?\"\n",
    "\n",
    "La théorie de la complexité est basée sur le calcul du nombre d'opérations élémentaires. Une *opération élémentaire* correspond à une opération simple : affectation, addition, soustraction, multiplication, division, comparaison de valeurs, *etc*. On suppose, de plus, qu'un ordinateur met le même temps pour faire n'importe quelle opération simple (petite approximation). *Pour avoir une idée de la durée d'exécution, il suffit de connaître le nombre d'opérations élémentaires nécessaires à effectuer ainsi que le temps nécessaire pour effectuer une opération élémentaire.*\n",
    "\n",
    "### Nombre d'opérations élémentaires pour le décalage circulaire\n",
    "\n",
    "#### Première méthode\n",
    "\n",
    "On a une itération de moins que le nombre de  valeurs dans le tableau. À chaque itération, on a comme opérations élémentaires :\n",
    "* $4$ affectations,\n",
    "* $3$ additions,\n",
    "* $1$ soustraction,\n",
    "* $1$ comparaison.\n",
    "\n",
    "On a donc $9$ opérations élémentaires par itération. On a aussi une affectation au départ (`i = 0`) ainsi qu'une comparaison et une soustraction à la fin de la boucle (`i<len(t)-1`). Si le tableau a $n$ cases, alors le nombre d'opérations élémentaires est : $9(n-1)+3= 9n-6$.\n",
    "\n",
    "#### Deuxième méthode\n",
    "\n",
    "On a une itération de moins que le nombre de valeurs dans le tableau. À chaque itération, on a comme opérations élémentaires :\n",
    "* $2$ affectations,\n",
    "* $2$ additions,\n",
    "* $1$ soustraction,\n",
    "* $1$ comparaison.\n",
    "\n",
    "On a donc $6$ opérations élémentaires par itération. On a aussi $3$ affectations et une soustraction en dehors de la boucle ainsi qu'une comparaison et une soustraction à la fin de la boucle (`i<len(t)-1`).  Si le tableau a $n$ cases, alors le nombre d'opérations élémentaires est : $6(n-1) + 6= 6n$.\n",
    "\n",
    "#### Comparaison\n",
    "\n",
    "Si le tableau fait $10\\,000$ cases, le premier algorithme nécessite $89\\,994$ opérations alors que le deuxième nécessite $60\\,000$ opérations élémentaires. Théoriquement, pour un tableau de taille $10\\,000$, le deuxième algorithme est environ 1.5 fois plus rapide ($89\\,994/60\\,000$). On retrouve un résultat similaire expérimentalement en comparant les temps d'exécution. \n",
    "\n",
    "#### Estimation du temps d'exécution pour un tableau de taille 100 000\n",
    "\n",
    "Si la taille du tableau est multipliée par $10$, alors le nombre d'opérations élémentaires est aussi multiplié par $10$ et l'algorithme prendra alors $10$ fois plus de temps. On peut ainsi estimer le temps d'exécution nécessaire pour des très grandes données sans tester expérimentalement."
   ]
  },
  {
   "cell_type": "markdown",
   "id": "db76eb11",
   "metadata": {
    "deletable": false,
    "editable": false,
    "run_control": {
     "frozen": true
    }
   },
   "source": [
    "**Sur ce thème :** Exercice 1 du TD."
   ]
  },
  {
   "cell_type": "markdown",
   "id": "704bf249",
   "metadata": {
    "deletable": false,
    "editable": false,
    "run_control": {
     "frozen": true
    }
   },
   "source": [
    "## Complexité dans le pire des cas\n",
    "\n",
    "En général, le nombre d'opérations dépend non seulement de la taille des données,\n",
    "mais des données elles-mêmes (on dit aussi : de l'instance).\n",
    "\n",
    "Par exemple, si l'on recherche un élément particulier dans un tableau de taille `n`, avec de la chance, l'élément est trouvé du premier coup et le programme s'arrête après une opération.\n",
    "\n",
    "Mais il est intéressant de prévoir la performance pour un jeu de données\n",
    "défavorable ou la **complexité dans le pire des cas**. Dans l'exemple de la recherche,\n",
    "le pire des cas se produit quand l'élément n'est pas trouvé ou trouvé en dernier,\n",
    "ce qui oblige à parcourir le tableau entier. "
   ]
  },
  {
   "cell_type": "markdown",
   "id": "daa81133",
   "metadata": {
    "deletable": false,
    "editable": false,
    "run_control": {
     "frozen": true
    },
    "slideshow": {
     "slide_type": ""
    },
    "tags": []
   },
   "source": [
    "## Complexité asymptotique\n"
   ]
  },
  {
   "cell_type": "markdown",
   "id": "8d5ce735",
   "metadata": {
    "deletable": false,
    "editable": false,
    "slideshow": {
     "slide_type": ""
    },
    "tags": []
   },
   "source": [
    "Calculer le nombre exact d'opérations élémentaires peut s'avérer difficile et n'est pas vraiment nécessaire, une estimation suffit. \n",
    "\n",
    "Le nombre d'opérations élémentaires peut être vu comme une fonction mathématique dépendant de la taille de l'instance. Ainsi, les complexités des méthodes de décalage sont les fonctions $f(n) = 9n - 6$ et $f(n) = 6n $. La complexité asymptotique consiste à comparer la fonction de complexité avec des fonctions de référence puissance (linéaire, quadratique, *etc*) logarithmique, exponentielle, *etc* pour des instances de grande taille (quand $n$ est grand). \n",
    "\n",
    "Par exemple : \n",
    "* La complexité d'un algorithme est **linéaire** si le nombre d'opérations élémentaires est environ $Cn$ où $C$ est une constante,\n",
    "* La complexité d'un algorithme est **quadratique** si le nombre d'opérations élémentaires est environ $Cn^2$ où $C$ est une constante,\n",
    "* La complexité d'un algorithme est **logarithmique** si le nombre d'opérations élémentaires est environ $C\\log_2(n)$ où $C$ est une constante.\n",
    "\n",
    "La complexité d'un algorithme est notée $O(g(n))$ (prononcée *grand Ô de g(n)*) , où $g(n)$ est une fonction de référence. Une complexité linéaire est notée $O(n)$, une complexité quadratique $O(n^2)$, *etc*."
   ]
  },
  {
   "cell_type": "markdown",
   "id": "e76f666a",
   "metadata": {
    "deletable": false,
    "editable": false,
    "run_control": {
     "frozen": true
    }
   },
   "source": [
    "**Sur ce thème :** Exercices 2 et 3 du TD.\n",
    "\n"
   ]
  }
 ],
 "metadata": {
  "kernelspec": {
   "display_name": "Python 3 (ipykernel)",
   "language": "python",
   "name": "python3"
  },
  "language_info": {
   "codemirror_mode": {
    "name": "ipython",
    "version": 3
   },
   "file_extension": ".py",
   "mimetype": "text/x-python",
   "name": "python",
   "nbconvert_exporter": "python",
   "pygments_lexer": "ipython3",
   "version": "3.11.4"
  }
 },
 "nbformat": 4,
 "nbformat_minor": 5
}
