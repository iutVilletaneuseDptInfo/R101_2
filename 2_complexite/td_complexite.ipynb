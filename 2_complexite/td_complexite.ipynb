{
 "cells": [
  {
   "cell_type": "markdown",
   "id": "a685fcfc",
   "metadata": {
    "deletable": false,
    "editable": false
   },
   "source": [
    "# <center> TD  : Complexité <center/>"
   ]
  },
  {
   "cell_type": "code",
   "execution_count": null,
   "id": "3599b47b",
   "metadata": {
    "tags": [
     "removeFromLatex"
    ]
   },
   "outputs": [],
   "source": [
    "from time import time\n",
    "from random import *"
   ]
  },
  {
   "cell_type": "markdown",
   "id": "34b1bf55",
   "metadata": {
    "deletable": false,
    "editable": false,
    "run_control": {
     "frozen": true
    }
   },
   "source": [
    "## Exercice 1 : Nombre d'opérations et complexité\n",
    "\n",
    "Soit le programme"
   ]
  },
  {
   "cell_type": "code",
   "execution_count": null,
   "id": "511933d3",
   "metadata": {},
   "outputs": [],
   "source": [
    "n = 10000\n",
    "s = 0\n",
    "i = 0\n",
    "while i < n:\n",
    "    s = s + 10\n",
    "    i = i + 1"
   ]
  },
  {
   "cell_type": "markdown",
   "id": "368351c8",
   "metadata": {
    "deletable": false,
    "editable": false
   },
   "source": [
    "### Question 1\n",
    "\n",
    "Quel est le nombre d'opérations élémentaires réalisées par ce programme ?"
   ]
  },
  {
   "cell_type": "markdown",
   "id": "a8ac7dbb",
   "metadata": {
    "tags": [
     "answer"
    ]
   },
   "source": [
    "**Réponse :** Écrire votre réponse ici.\n",
    "\n",
    "\n"
   ]
  },
  {
   "cell_type": "markdown",
   "id": "cf0ab01a",
   "metadata": {
    "deletable": false,
    "editable": false
   },
   "source": [
    "### Question 2\n",
    "\n",
    "Prévoir l'évolution du temps d'exécution pour `n = 100000`, autrement dit pour une entrée $10$ fois plus grande."
   ]
  },
  {
   "cell_type": "markdown",
   "id": "68cad9ef",
   "metadata": {
    "tags": [
     "answer"
    ]
   },
   "source": [
    "**Réponse :** Écrire votre réponse ici.\n",
    "\n",
    "\n"
   ]
  },
  {
   "cell_type": "markdown",
   "id": "b92ddff9",
   "metadata": {
    "deletable": false,
    "editable": false,
    "run_control": {
     "frozen": true
    }
   },
   "source": [
    "### Question 3\n",
    "\n",
    "Mêmes questions avec le programme suivant"
   ]
  },
  {
   "cell_type": "code",
   "execution_count": null,
   "id": "264ad5fd",
   "metadata": {},
   "outputs": [],
   "source": [
    "n = 10000\n",
    "s = 0\n",
    "i = 0\n",
    "while i < n:\n",
    "    if i%2 == 0:\n",
    "        s = s + 20\n",
    "    else:\n",
    "        s = s + 10\n",
    "    i = i + 1"
   ]
  },
  {
   "cell_type": "markdown",
   "id": "5d3e1200",
   "metadata": {
    "tags": [
     "answer"
    ]
   },
   "source": [
    "**Réponse :** Écrire votre réponse ici.\n",
    "\n",
    "\n"
   ]
  },
  {
   "cell_type": "markdown",
   "id": "9fc9b910",
   "metadata": {
    "deletable": false,
    "editable": false
   },
   "source": [
    "## Exercice 2 : Boucles imbriquées et complexité\n",
    "\n",
    "* Quelle est la complexité du programme suivant ?\n",
    "* Quelle est sa complexité asymptotique ?\n",
    "* Prévoir l'évolution du temps d'exécution avec une donnée `7` fois plus grande."
   ]
  },
  {
   "cell_type": "code",
   "execution_count": null,
   "id": "6f3c7513",
   "metadata": {},
   "outputs": [],
   "source": [
    "n = 100\n",
    "\n",
    "s = 0\n",
    "i = 0\n",
    "while i < n:\n",
    "    j = 0\n",
    "    while j < n:\n",
    "        s = s + 10\n",
    "        j = j + 1\n",
    "    i = i + 1"
   ]
  },
  {
   "cell_type": "markdown",
   "id": "fb775324",
   "metadata": {
    "tags": [
     "answer"
    ]
   },
   "source": [
    "**Réponse :** Écrire votre réponse ici.\n",
    "\n",
    "\n"
   ]
  },
  {
   "cell_type": "markdown",
   "id": "407ce375",
   "metadata": {},
   "source": [
    "## Exercice 3 : Recherche d'un maximum\n",
    "\n",
    "On souhaite comparer deux algorithmes de recherche d'un maximum dans un tableau.\n",
    "\n",
    "### Question 1\n",
    "\n",
    "* Définir la fonction `sup` qui prend en paramètres un entier `k` et un tableau `t` et retourne `True` si `k` est supérieur ou égal à tous les éléments d'un tableau, et `False` sinon.\n",
    "* Quelle est la complexité asymptotique de la fonction `sup` ?\n"
   ]
  },
  {
   "cell_type": "code",
   "execution_count": null,
   "id": "6afa5c6e",
   "metadata": {
    "tags": [
     "answer"
    ]
   },
   "outputs": [],
   "source": [
    "############################## \n",
    "#   Saisir votre code ici.   #\n",
    "##############################\n",
    "\n",
    "\n"
   ]
  },
  {
   "cell_type": "markdown",
   "id": "702cc8e6",
   "metadata": {
    "deletable": false,
    "editable": false
   },
   "source": [
    "### Question 2\n",
    "\n",
    "- Définir la fonction `imax` prenant en paramètre un tableau `tab`. Cette fonction retournera l'indice du premier maximum, c'est-à-dire la position du premier élément du tableau qui est supérieur à tous les élements du tableau. <BR>\n",
    "Pour cela, on utilisera la fonction `sup` en prenant comme valeur pour `k` les valeurs contenues dans la tableau jusqu'à trouver le premier élément supérieur à tous les autres élements du tableau.\n",
    "\n",
    "- Quelle est la complexité asymptotique de la fonction `imax` ?"
   ]
  },
  {
   "cell_type": "code",
   "execution_count": null,
   "id": "f9a7c2db",
   "metadata": {
    "tags": [
     "answer"
    ]
   },
   "outputs": [],
   "source": [
    "############################## \n",
    "#   Saisir votre code ici.   #\n",
    "##############################\n",
    "\n",
    "\n"
   ]
  },
  {
   "cell_type": "markdown",
   "id": "0c5f173b",
   "metadata": {
    "tags": [
     "answer"
    ]
   },
   "source": [
    "**Réponse :** Écrire votre réponse ici.\n",
    "\n",
    "\n"
   ]
  },
  {
   "cell_type": "markdown",
   "id": "3e34f8f6",
   "metadata": {
    "deletable": false,
    "editable": false
   },
   "source": [
    "### Question 3\n",
    "\n",
    "Définir la fonction `imax2` utilisant l'algorithme standard de recherche de l'indice du (premier) maximum et comparer leur complexité."
   ]
  },
  {
   "cell_type": "code",
   "execution_count": null,
   "id": "44166702",
   "metadata": {
    "tags": [
     "answer"
    ]
   },
   "outputs": [],
   "source": [
    "############################## \n",
    "#   Saisir votre code ici.   #\n",
    "##############################\n",
    "\n",
    "\n"
   ]
  },
  {
   "cell_type": "markdown",
   "id": "954356a7",
   "metadata": {
    "tags": [
     "answer"
    ]
   },
   "source": [
    "**Réponse :** Écrire votre réponse ici.\n",
    "\n",
    "\n"
   ]
  },
  {
   "cell_type": "markdown",
   "id": "f6e115eb",
   "metadata": {
    "deletable": false,
    "editable": false,
    "tags": [
     "removeFromLatex"
    ]
   },
   "source": [
    "### Question 4\n",
    "\n",
    "Comparer le temps d'exécution des deux algorithmes de recherche de maximum dans le pire cas lorsque le tableau est de taille $10\\,000$. <BR><BR>\n",
    "Un tableau, conduisant à une exécution dans le pire cas, pourra être créé à l'aide l'instruction `list(range(10000))` qui crée le tableau `[0, 1, 2, ..., 9999]`."
   ]
  },
  {
   "cell_type": "code",
   "execution_count": null,
   "id": "ce97acb8",
   "metadata": {
    "tags": [
     "answer",
     "removeFromLatex"
    ]
   },
   "outputs": [],
   "source": [
    "############################## \n",
    "#   Saisir votre code ici.   #\n",
    "##############################\n",
    "\n",
    "\n"
   ]
  }
 ],
 "metadata": {
  "kernelspec": {
   "display_name": "Python 3 (ipykernel)",
   "language": "python",
   "name": "python3"
  },
  "language_info": {
   "codemirror_mode": {
    "name": "ipython",
    "version": 3
   },
   "file_extension": ".py",
   "mimetype": "text/x-python",
   "name": "python",
   "nbconvert_exporter": "python",
   "pygments_lexer": "ipython3",
   "version": "3.11.4"
  }
 },
 "nbformat": 4,
 "nbformat_minor": 5
}
