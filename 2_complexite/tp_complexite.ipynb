{
 "cells": [
  {
   "cell_type": "markdown",
   "id": "0329f525",
   "metadata": {},
   "source": [
    "# <center> TP 2 : Complexité </center>"
   ]
  },
  {
   "cell_type": "code",
   "execution_count": null,
   "id": "8837a6b3",
   "metadata": {},
   "outputs": [],
   "source": [
    "from random import randint\n",
    "from time import time\n",
    "\n",
    "# Pour dessiner des courbes\n",
    "from matplotlib.pyplot import plot, show, legend, xlabel, ylabel"
   ]
  },
  {
   "cell_type": "markdown",
   "id": "b491cf37",
   "metadata": {
    "deletable": false,
    "editable": false
   },
   "source": [
    "Un tableau `tab1` est inclus dans un tableau `tab2` si tous les éléments de `tab1` sont aussi des éléments de `tab2`. \n",
    "\n",
    "Par exemple, `[1, 2, 3]` est inclus dans  `[3, 2, 1]`, mais\n",
    "`[1, 1, 2, 1, 2]` est aussi inclus `[3, 2, 1]`, alors que `[4]`n'est pas inclus dans `[3,2,1]`.\n",
    "\n",
    "Le but de ce TP est d'implémenter deux algorithmes permettant de déterminer, étant donnés deux tableaux `tab1`et `tab2`, si `tab1` est inclus dans `tab2`."
   ]
  },
  {
   "cell_type": "markdown",
   "id": "c6de77aa",
   "metadata": {
    "deletable": false,
    "editable": false
   },
   "source": [
    "## Exercice 1 : Appartenance d'un élément à un tableau\n",
    "\n",
    "### Question 1\n",
    "\n",
    "Définir la fonction `appartient` prenant en paramètres une valeur `val` et un tableau `tab` et retournant `True` si la valeur `val` est dans le tableau `tab`, et `False` sinon."
   ]
  },
  {
   "cell_type": "code",
   "execution_count": 1,
   "id": "747b27eb",
   "metadata": {
    "tags": [
     "answer"
    ]
   },
   "outputs": [],
   "source": [
    "############################## \n",
    "#   Saisir votre code ici.   #\n",
    "##############################\n",
    "\n",
    "\n"
   ]
  },
  {
   "cell_type": "markdown",
   "id": "083c7408",
   "metadata": {
    "deletable": false,
    "editable": false,
    "run_control": {
     "frozen": true
    }
   },
   "source": [
    "### Question 2\n",
    "\n",
    "Définir une fonction de tests unitaires de la fonction `appartient`."
   ]
  },
  {
   "cell_type": "code",
   "execution_count": null,
   "id": "c954b7fd",
   "metadata": {
    "tags": [
     "answer"
    ]
   },
   "outputs": [],
   "source": [
    "############################## \n",
    "#   Saisir votre code ici.   #\n",
    "##############################\n",
    "\n",
    "\n"
   ]
  },
  {
   "cell_type": "markdown",
   "id": "4666f7ec",
   "metadata": {
    "deletable": false,
    "editable": false,
    "run_control": {
     "frozen": true
    }
   },
   "source": [
    "### Question 3\n",
    "\n",
    "Quelle est la complexité asymptotique de la fonction `appartient` ?"
   ]
  },
  {
   "cell_type": "markdown",
   "id": "ea4a1e62",
   "metadata": {
    "tags": [
     "answer"
    ]
   },
   "source": [
    "**Réponse :** Écrire votre réponse ici.\n",
    "\n",
    "\n"
   ]
  },
  {
   "cell_type": "markdown",
   "id": "19ea52ba",
   "metadata": {
    "deletable": false,
    "editable": false,
    "run_control": {
     "frozen": true
    }
   },
   "source": [
    "## Exercice 2 : Générateur aléatoire de tableaux\n",
    "\n",
    "Définir une fonction `gen_tab_int(n, mini, maxi)` retournant un tableau de `n` nombres entiers aléatoires compris entre `mini` et `maxi` inclus. La fonction doit vérifier les tests unitaires ci-dessous."
   ]
  },
  {
   "cell_type": "code",
   "execution_count": null,
   "id": "282dcc34",
   "metadata": {
    "tags": [
     "answer"
    ]
   },
   "outputs": [],
   "source": [
    "############################## \n",
    "#   Saisir votre code ici.   #\n",
    "##############################\n",
    "\n",
    "\n",
    "\n"
   ]
  },
  {
   "cell_type": "code",
   "execution_count": null,
   "id": "f59f15e0",
   "metadata": {
    "deletable": false,
    "editable": false
   },
   "outputs": [],
   "source": [
    "def test_gen_tab_int():\n",
    "    assert gen_tab_int(0, 1, 10) == []\n",
    "    assert gen_tab_int(1, 1, 1) == [1]\n",
    "    assert gen_tab_int(6, 4, 4) == [4, 4, 4, 4, 4, 4]\n",
    "    tab = gen_tab_int(400, 0, 1)\n",
    "    assert len(tab) == 400\n",
    "    i = 0\n",
    "    while i < 400:\n",
    "        assert tab[i] == 0 or tab[i] == 1\n",
    "        i += 1\n",
    "    print(\"Test de la fonction gen_tab_int : ok\")\n",
    "\n",
    "test_gen_tab_int()"
   ]
  },
  {
   "cell_type": "markdown",
   "id": "de0317da",
   "metadata": {
    "deletable": false,
    "editable": false
   },
   "source": [
    "## Exercice 3 : Courbes de performance de tests d'appartenance d'un élément à un tableau\n",
    "\n",
    "Le but de cet exercice est de mesurer le temps d'exécution nécessaire pour déterminer si un élément appartient à un tableau. \n",
    "\n",
    "On souhaite déterminer ce temps pour différentes tailles de tableaux et différents cas : \n",
    "* pire cas : quand l'algorithme met le plus de temps (à vous de déterminer ce pire cas) ;\n",
    "* lorsque l'on cherche la valeur $1$ dans un tableau aléatoire contenant uniquement des entiers entre $1$ et $100$ ;\n",
    "* lorsque l'on cherche la valeur $1$ dans un tableau aléatoire contenant uniquement des entiers entre $1$ et $1\\,000\\,000$.\n",
    "\n",
    "On souhaite ensuite dessiner les courbes de temps d'exécution en fonction de la taille de l'instance pour visualiser plus facilement les résultats."
   ]
  },
  {
   "cell_type": "markdown",
   "id": "8e4cd23a",
   "metadata": {
    "deletable": false,
    "editable": false
   },
   "source": [
    "### Question 1\n",
    "\n",
    "Définir la fonction `mesure_appartient` prenant en paramètres 4 entiers `n`, `val`, `mini` et `maxi`. La fonction retournera le temps d'exécution nécessaire pour déterminer si la valeur `val` appartient au tableau généré aléatoirement avec la fonction `gen_tab_int` pour les valeurs `n`, `mini` et `maxi`.\n",
    "\n",
    "**Attention :** La fonction calculera le temps moyen de recherche sur 20 mesures. Chaque mesure se fera sur un tableau aléatoire différent (un appel de `gen_tab_int` doit être fait pour chaque mesure). De plus, elle ne prendra pas en compte le temps nécessaire pour la création du tableau."
   ]
  },
  {
   "cell_type": "code",
   "execution_count": null,
   "id": "a76a5d03",
   "metadata": {
    "tags": [
     "answer"
    ]
   },
   "outputs": [],
   "source": [
    "############################## \n",
    "#   Saisir votre code ici.   #\n",
    "##############################\n",
    "\n",
    "\n"
   ]
  },
  {
   "cell_type": "markdown",
   "id": "bfc6ae38",
   "metadata": {
    "deletable": false,
    "editable": false
   },
   "source": [
    "### Question 2\n",
    "\n",
    "Définir la fonction `mesure_appartient_multiples` prenant en paramètres un tableau d'entiers `taille` et 3 entiers `val`, `mini` et `maxi`. Le tableau `taille` contiendra les différentes tailles de tableaux pour lesquelles on souhaite mesurer le temps d'exécution de la fonction `appartiennt`. \n",
    "\n",
    "La fonction retournera un tableau contenant les mesures pour les différentes tailles (la `i`-ème case du tableau retourné contiendra le temps d'exécution pour tester l'appartenance de `val` pour un tableau avec `taille[i]` éléments).\n",
    "\n",
    "On utilisera pour cela la fonction `mesure_appartient` définie à la question précédente."
   ]
  },
  {
   "cell_type": "code",
   "execution_count": null,
   "id": "972517f0",
   "metadata": {
    "tags": [
     "answer"
    ]
   },
   "outputs": [],
   "source": [
    "############################## \n",
    "#   Saisir votre code ici.   #\n",
    "##############################\n",
    "\n",
    "\n"
   ]
  },
  {
   "cell_type": "markdown",
   "id": "6d52ec72",
   "metadata": {
    "deletable": false,
    "editable": false
   },
   "source": [
    "### Question 3 : Courbes des temps d'exécution. \n",
    "\n",
    "On teste la fonction `appartient` pour les tailles de tableaux suivantes : $100$, $1\\,000$, $10\\,000$, $20\\,000$, $50\\,000$. \n",
    "On cherche toujours la valeur $1$ dans le tableau. On teste $4$ cas  de figure: \n",
    "* pire cas (que vous devez déterminer),\n",
    "* facile : le tableau contient des nombres aléatoires entre $1$ et $100$,\n",
    "* moyen : le tableau contient des nombres aléatoires entre $1$ et $10\\,000$,\n",
    "* difficile : le tableau contient des nombres aléatoires entre $1$ et $100\\,000$.\n",
    "\n",
    "L'objectif est de tracer les courbes d'exécution dans ces différents cas pour les tableaux décrits.\n",
    "\n",
    "Pour tracer un graphique, on utilise la fonction `plot` comme dans l'exemple ci-dessous."
   ]
  },
  {
   "cell_type": "code",
   "execution_count": null,
   "id": "8953d456",
   "metadata": {},
   "outputs": [],
   "source": [
    "%matplotlib inline\n",
    "\n",
    "x = [1, 2, 3, 4, 5, 6, 7, 8]\n",
    "y1 = [10, 20, 30, 20, 10, 20, 30, 20]\n",
    "y2 = [15, 25, 15, 25, 15, 25, 15, 25]\n",
    "plot(x, y1, \"b\", label=\"Courbe y1\")\n",
    "plot(x, y2, \"g\", label=\"Courbe y2\")\n",
    "xlabel(\"Valeurs de x\")\n",
    "ylabel(\"Valeurs de y\")\n",
    "legend()"
   ]
  },
  {
   "cell_type": "code",
   "execution_count": null,
   "id": "4510fe2e",
   "metadata": {
    "tags": [
     "answer"
    ]
   },
   "outputs": [],
   "source": [
    "############################## \n",
    "#   Saisir votre code ici.   #\n",
    "##############################\n",
    "\n",
    "\n"
   ]
  },
  {
   "cell_type": "markdown",
   "id": "271bf21a",
   "metadata": {
    "deletable": false,
    "editable": false
   },
   "source": [
    "## Exercice 4 : Inclusion de tableaux\n",
    "\n",
    "### Question 1\n",
    "\n",
    "Définir la fonction `inclus` prenant en paramètres deux tableaux `tab1` et `tab2` et retournant `True` si `tab1` est inclus dans `tab2`, et `False` sinon (au sens de l'inclusion définie tout au début du TP).\n",
    "\n",
    "La fonction doit vérifier les tests unitaires définis ci-dessous."
   ]
  },
  {
   "cell_type": "code",
   "execution_count": null,
   "id": "7f49b987",
   "metadata": {
    "tags": [
     "answer"
    ]
   },
   "outputs": [],
   "source": [
    "############################## \n",
    "#   Saisir votre code ici.   #\n",
    "##############################\n",
    "\n",
    "\n"
   ]
  },
  {
   "cell_type": "code",
   "execution_count": null,
   "id": "eb3c93b3",
   "metadata": {
    "deletable": false,
    "editable": false
   },
   "outputs": [],
   "source": [
    "def test_inclus():\n",
    "    assert inclus([1, 2, 3], [3, 2, 1])\n",
    "    assert inclus([], [])\n",
    "    assert inclus([1, 1, 2, 1, 2], [3, 2, 1])\n",
    "    assert not inclus([1], [2, 3, 4, 5, 6])\n",
    "    assert not inclus([1, 10, 19, 20], [1, 19, 20, 19, 1, 20])\n",
    "    print(\"Test de la fonction inclus : ok\")\n",
    "\n",
    "test_inclus()"
   ]
  },
  {
   "cell_type": "markdown",
   "id": "a934f911",
   "metadata": {
    "deletable": false,
    "editable": false,
    "run_control": {
     "frozen": true
    }
   },
   "source": [
    "### Question 2\n",
    "\n",
    "Quelle est la complexité asymptotique de la fonction `inclus` ?"
   ]
  },
  {
   "cell_type": "markdown",
   "id": "29f828ef",
   "metadata": {
    "tags": [
     "answer"
    ]
   },
   "source": [
    "**Réponse :** Écrire votre réponse ici.\n",
    "\n",
    "\n"
   ]
  },
  {
   "cell_type": "markdown",
   "id": "3f7e6732",
   "metadata": {
    "deletable": false,
    "editable": false
   },
   "source": [
    "### Question 3\n",
    "\n",
    "Définir les fonctions `mesure_inclus` et `mesure_inclus_multiples` en vous aidant des définitions des fonctions `mesure_appartient` et `mesure_appartient_multiples`. Chaque mesure sera faite avec deux  tableaux de même taille contenant des entiers aléatoires entre `mini` et `maxi`.\n",
    "\n",
    "Afficher les courbes de temps d'exécution pour les tailles de tableaux $100$, $1\\,000$, $2\\,000$, $5\\,000$, $7\\,500$.\n",
    "On testera 4 cas : \n",
    "* les tableaux contiennent des nombres aléatoires entre $1$ et $100$,\n",
    "* les tableaux contiennent des nombres aléatoires entre $1$ et $500$,\n",
    "* les tableaux contiennent des nombres aléatoires entre $1$ et $1\\,000$,\n",
    "* les tableaux contiennent des nombres aléatoires entre $1$ et $2\\,000$."
   ]
  },
  {
   "cell_type": "code",
   "execution_count": null,
   "id": "7e00259c",
   "metadata": {
    "tags": [
     "answer"
    ]
   },
   "outputs": [],
   "source": [
    "############################## \n",
    "#   Saisir votre code ici.   #\n",
    "##############################\n",
    "\n",
    "\n"
   ]
  },
  {
   "cell_type": "markdown",
   "id": "c427b76f",
   "metadata": {
    "deletable": false,
    "editable": false
   },
   "source": [
    "## Exercice 5 : Test d'inclusion lorsque le nombre de valeurs distinctes est faible\n",
    "\n",
    "Lorsque les tableaux contiennent peu de valeurs distinctes, on peut définir un algorithme plus rapide pour tester l'inclusion.\n",
    "Pour simplifier, on suppose que les deux tableaux contiennent uniquement des nombres entiers aléatoires entre $1$ et $1\\,000$ inclus.\n",
    "\n",
    "L'algorithme \"rapide\" est le suivant : \n",
    "1. Créer un tableau auxiliaire `aux` de $1\\,001$ cases contenant toutes la valeur `False`. \n",
    "2. Parcourir le tableau `tab2` pour mettre à jour le tableau `aux` : à la fin du parcours, `aux[i]` doit être égal à `True` si `i` est un entier de `tab2`, et `False` sinon.\n",
    "3. Déterminer grâce au tableau `aux` si `tab1` est inclus dans `tab2`."
   ]
  },
  {
   "cell_type": "markdown",
   "id": "6e221578",
   "metadata": {
    "deletable": false,
    "editable": false
   },
   "source": [
    "### Question 1\n",
    "\n",
    "Définir la fonction `inclus_rapide` implémentant l'algorithme \"rapide\" de test d'inclusion. (On suppose que les tableaux contiennent des entiers entre $1$ et $1\\,000$). \n",
    "\n",
    "La fonction doit vérifier les tests unitaires ci-dessous."
   ]
  },
  {
   "cell_type": "code",
   "execution_count": null,
   "id": "800672eb",
   "metadata": {
    "tags": [
     "answer"
    ]
   },
   "outputs": [],
   "source": [
    "############################## \n",
    "#   Saisir votre code ici.   #\n",
    "##############################\n",
    "\n",
    "\n"
   ]
  },
  {
   "cell_type": "code",
   "execution_count": null,
   "id": "00f8a560",
   "metadata": {
    "deletable": false,
    "editable": false
   },
   "outputs": [],
   "source": [
    "def test_inclus_rapide():\n",
    "    assert inclus_rapide([1, 2, 3], [3, 2, 1])\n",
    "    assert inclus_rapide([], [])\n",
    "    assert inclus_rapide([1, 1, 2, 1, 2], [3, 2, 1])\n",
    "    assert not inclus_rapide([1], [2, 3, 4, 5, 6])\n",
    "    assert not inclus_rapide([1, 10, 19, 20], [1, 19, 20, 19, 1, 20])\n",
    "    print(\"Test de la fonction inclus_rapide : ok\")\n",
    "\n",
    "test_inclus_rapide()"
   ]
  },
  {
   "cell_type": "markdown",
   "id": "7ef24242",
   "metadata": {
    "deletable": false,
    "editable": false
   },
   "source": [
    "### Question 2\n",
    "\n",
    "Quelle est la complexité asymptotique de l'inclusion \"rapide\" ?"
   ]
  },
  {
   "cell_type": "markdown",
   "id": "c7450750",
   "metadata": {},
   "source": [
    "**Réponse :** Écrire votre réponse ici.\n"
   ]
  },
  {
   "cell_type": "markdown",
   "id": "f226abff",
   "metadata": {
    "deletable": false,
    "editable": false
   },
   "source": [
    "### Question 3\n",
    "\n",
    "Définir les fonctions `mesure_inclus_rapide` et `mesure_inclus_rapide_multiples` puis afficher les courbes des temps d'exécution des deux algorithmes de test d'inclusion. \n",
    "\n",
    "Les mesures seront faites pour des tableaux de taille $100$, $200$, $500$, $1\\,000$, $5\\,000$ et $7\\,500$."
   ]
  },
  {
   "cell_type": "code",
   "execution_count": null,
   "id": "2f2b8de3",
   "metadata": {
    "tags": [
     "answer"
    ]
   },
   "outputs": [],
   "source": [
    "############################## \n",
    "#   Saisir votre code ici.   #\n",
    "##############################\n",
    "\n",
    "\n"
   ]
  }
 ],
 "metadata": {
  "kernelspec": {
   "display_name": "Python 3 (ipykernel)",
   "language": "python",
   "name": "python3"
  },
  "language_info": {
   "codemirror_mode": {
    "name": "ipython",
    "version": 3
   },
   "file_extension": ".py",
   "mimetype": "text/x-python",
   "name": "python",
   "nbconvert_exporter": "python",
   "pygments_lexer": "ipython3",
   "version": "3.11.4"
  }
 },
 "nbformat": 4,
 "nbformat_minor": 5
}
